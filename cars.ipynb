{
 "cells": [
  {
   "cell_type": "code",
   "execution_count": 2,
   "metadata": {},
   "outputs": [],
   "source": [
    "# Saber en cuanto podría vender su coche"
   ]
  },
  {
   "cell_type": "markdown",
   "metadata": {},
   "source": [
    "- Leyendo el dataset"
   ]
  },
  {
   "cell_type": "code",
   "execution_count": 3,
   "metadata": {},
   "outputs": [],
   "source": [
    "import pandas as pd"
   ]
  },
  {
   "cell_type": "code",
   "execution_count": 4,
   "metadata": {},
   "outputs": [],
   "source": [
    "cars = pd.read_csv(\"cars.csv\")"
   ]
  },
  {
   "cell_type": "code",
   "execution_count": 5,
   "metadata": {},
   "outputs": [
    {
     "data": {
      "text/html": [
       "<div>\n",
       "<style scoped>\n",
       "    .dataframe tbody tr th:only-of-type {\n",
       "        vertical-align: middle;\n",
       "    }\n",
       "\n",
       "    .dataframe tbody tr th {\n",
       "        vertical-align: top;\n",
       "    }\n",
       "\n",
       "    .dataframe thead th {\n",
       "        text-align: right;\n",
       "    }\n",
       "</style>\n",
       "<table border=\"1\" class=\"dataframe\">\n",
       "  <thead>\n",
       "    <tr style=\"text-align: right;\">\n",
       "      <th></th>\n",
       "      <th>maker</th>\n",
       "      <th>model</th>\n",
       "      <th>year</th>\n",
       "      <th>transmission</th>\n",
       "      <th>mileage</th>\n",
       "      <th>fuelType</th>\n",
       "      <th>tax</th>\n",
       "      <th>mpg</th>\n",
       "      <th>engineSize</th>\n",
       "      <th>price</th>\n",
       "    </tr>\n",
       "  </thead>\n",
       "  <tbody>\n",
       "    <tr>\n",
       "      <th>0</th>\n",
       "      <td>cclass</td>\n",
       "      <td>C Class</td>\n",
       "      <td>2020</td>\n",
       "      <td>Automatic</td>\n",
       "      <td>1200</td>\n",
       "      <td>Diesel</td>\n",
       "      <td>NaN</td>\n",
       "      <td>NaN</td>\n",
       "      <td>2.0</td>\n",
       "      <td>30495</td>\n",
       "    </tr>\n",
       "    <tr>\n",
       "      <th>1</th>\n",
       "      <td>cclass</td>\n",
       "      <td>C Class</td>\n",
       "      <td>2020</td>\n",
       "      <td>Automatic</td>\n",
       "      <td>1000</td>\n",
       "      <td>Petrol</td>\n",
       "      <td>NaN</td>\n",
       "      <td>NaN</td>\n",
       "      <td>1.5</td>\n",
       "      <td>29989</td>\n",
       "    </tr>\n",
       "    <tr>\n",
       "      <th>2</th>\n",
       "      <td>cclass</td>\n",
       "      <td>C Class</td>\n",
       "      <td>2020</td>\n",
       "      <td>Automatic</td>\n",
       "      <td>500</td>\n",
       "      <td>Diesel</td>\n",
       "      <td>NaN</td>\n",
       "      <td>NaN</td>\n",
       "      <td>2.0</td>\n",
       "      <td>37899</td>\n",
       "    </tr>\n",
       "    <tr>\n",
       "      <th>3</th>\n",
       "      <td>cclass</td>\n",
       "      <td>C Class</td>\n",
       "      <td>2019</td>\n",
       "      <td>Automatic</td>\n",
       "      <td>5000</td>\n",
       "      <td>Diesel</td>\n",
       "      <td>NaN</td>\n",
       "      <td>NaN</td>\n",
       "      <td>2.0</td>\n",
       "      <td>30399</td>\n",
       "    </tr>\n",
       "    <tr>\n",
       "      <th>4</th>\n",
       "      <td>cclass</td>\n",
       "      <td>C Class</td>\n",
       "      <td>2019</td>\n",
       "      <td>Automatic</td>\n",
       "      <td>4500</td>\n",
       "      <td>Diesel</td>\n",
       "      <td>NaN</td>\n",
       "      <td>NaN</td>\n",
       "      <td>2.0</td>\n",
       "      <td>29899</td>\n",
       "    </tr>\n",
       "  </tbody>\n",
       "</table>\n",
       "</div>"
      ],
      "text/plain": [
       "    maker     model  year transmission  mileage fuelType  tax  mpg  \\\n",
       "0  cclass   C Class  2020    Automatic     1200   Diesel  NaN  NaN   \n",
       "1  cclass   C Class  2020    Automatic     1000   Petrol  NaN  NaN   \n",
       "2  cclass   C Class  2020    Automatic      500   Diesel  NaN  NaN   \n",
       "3  cclass   C Class  2019    Automatic     5000   Diesel  NaN  NaN   \n",
       "4  cclass   C Class  2019    Automatic     4500   Diesel  NaN  NaN   \n",
       "\n",
       "   engineSize  price  \n",
       "0         2.0  30495  \n",
       "1         1.5  29989  \n",
       "2         2.0  37899  \n",
       "3         2.0  30399  \n",
       "4         2.0  29899  "
      ]
     },
     "execution_count": 5,
     "metadata": {},
     "output_type": "execute_result"
    }
   ],
   "source": [
    "cars.head()"
   ]
  },
  {
   "cell_type": "markdown",
   "metadata": {},
   "source": [
    "- Análisis exploratorio de datos"
   ]
  },
  {
   "cell_type": "code",
   "execution_count": 6,
   "metadata": {},
   "outputs": [],
   "source": [
    "from pandas_profiling import ProfileReport"
   ]
  },
  {
   "cell_type": "code",
   "execution_count": 7,
   "metadata": {},
   "outputs": [],
   "source": [
    "# Cremos un objeto de la clase ProfileReport y le pasamos el dataframe, con titulo y usamos explorative como verdadero (para generar un reporte más extenso).\n",
    "# 2.- Después como a ese objeto vamos a llamar un método llamado to_file y le pasamos como nombre \"reporte.html\""
   ]
  },
  {
   "cell_type": "code",
   "execution_count": 8,
   "metadata": {},
   "outputs": [
    {
     "name": "stderr",
     "output_type": "stream",
     "text": [
      "Summarize dataset: 100%|██████████| 61/61 [01:07<00:00,  1.11s/it, Completed]                     \n",
      "Generate report structure: 100%|██████████| 1/1 [00:23<00:00, 23.66s/it]\n",
      "Render HTML: 100%|██████████| 1/1 [00:32<00:00, 32.55s/it]\n",
      "Export report to file: 100%|██████████| 1/1 [00:00<00:00,  3.09it/s]\n"
     ]
    }
   ],
   "source": [
    "profile = ProfileReport(cars, title=\"Raw Car Dataset Analysis\", explorative=True)  # 1\n",
    "profile.to_file(\"reporte.html\") # 2"
   ]
  },
  {
   "cell_type": "markdown",
   "metadata": {},
   "source": [
    "- Elimina los duplicados"
   ]
  },
  {
   "cell_type": "code",
   "execution_count": 9,
   "metadata": {},
   "outputs": [],
   "source": [
    "# 1.- Vamos a usar un método de pands para eliminar valores duplicados."
   ]
  },
  {
   "cell_type": "code",
   "execution_count": 10,
   "metadata": {},
   "outputs": [
    {
     "data": {
      "text/plain": [
       "108540"
      ]
     },
     "execution_count": 10,
     "metadata": {},
     "output_type": "execute_result"
    }
   ],
   "source": [
    "len(cars)"
   ]
  },
  {
   "cell_type": "code",
   "execution_count": 11,
   "metadata": {},
   "outputs": [
    {
     "data": {
      "text/plain": [
       "106267"
      ]
     },
     "execution_count": 11,
     "metadata": {},
     "output_type": "execute_result"
    }
   ],
   "source": [
    "cars = cars.drop_duplicates(keep=\"first\") # 1\n",
    "len(cars)"
   ]
  },
  {
   "cell_type": "markdown",
   "metadata": {},
   "source": [
    "- Dividimos nuestro Dataset"
   ]
  },
  {
   "cell_type": "code",
   "execution_count": 12,
   "metadata": {},
   "outputs": [],
   "source": [
    "# 1.- de model_selection voy a importar una función que se llama train_test_split\n",
    "# 2.-\n"
   ]
  },
  {
   "cell_type": "code",
   "execution_count": 13,
   "metadata": {},
   "outputs": [],
   "source": [
    "from sklearn.model_selection import train_test_split  # 1\n",
    "import numpy as np"
   ]
  },
  {
   "cell_type": "code",
   "execution_count": 14,
   "metadata": {},
   "outputs": [
    {
     "name": "stdout",
     "output_type": "stream",
     "text": [
      "[63759 21254 21254]\n",
      "[0.59998871 0.20000565 0.20000565]\n"
     ]
    }
   ],
   "source": [
    "rest, test = train_test_split(cars, test_size=0.2, shuffle=True) # 20% of 100 = 20\n",
    "# Me permite especificar mi dataset, el tamaño que quiero (en %) y esepcificar que los barajeé\n",
    "\n",
    "\n",
    "train, val = train_test_split(rest, test_size=0.25, shuffle=True) # 25% of 80 = 20\n",
    "# Tomo el conjunto restante por eso \"rest\"\n",
    "\n",
    "distributions = np.array([len(train), len(val), len(test)])\n",
    "\n",
    "print(distributions)\n",
    "print(distributions / len(cars))"
   ]
  },
  {
   "cell_type": "markdown",
   "metadata": {},
   "source": [
    "- Feature Engineering"
   ]
  },
  {
   "cell_type": "code",
   "execution_count": 15,
   "metadata": {},
   "outputs": [],
   "source": [
    "# Las variables categoricas al NO ser números, debemos pasarlas a números para poder trabajar con ellas\n",
    "# Pandas tiene un método para convertir en dummies\n",
    "#\n"
   ]
  },
  {
   "cell_type": "code",
   "execution_count": 16,
   "metadata": {},
   "outputs": [],
   "source": [
    "from sklearn.preprocessing import OneHotEncoder\n",
    "maker_encoder = OneHotEncoder() # Creamos objeto que se llama OneHotEncoder\n"
   ]
  },
  {
   "cell_type": "code",
   "execution_count": 17,
   "metadata": {},
   "outputs": [],
   "source": [
    "# 1.- Utilizo ese objeto y le voy a decir: \"Oye, prepara con esos datos(datos de entrenamiento)\"\n",
    "# 2.- Puedo usar el metodo tranform y me dará una matriz\n",
    "# 2.- Para visualizar la matriz (NO ES NECESARIO USAR) se usa \".todense()\""
   ]
  },
  {
   "cell_type": "code",
   "execution_count": 18,
   "metadata": {},
   "outputs": [
    {
     "data": {
      "text/plain": [
       "OneHotEncoder()"
      ]
     },
     "execution_count": 18,
     "metadata": {},
     "output_type": "execute_result"
    }
   ],
   "source": [
    "maker_encoder.fit(train[[\"maker\"]]) # 1"
   ]
  },
  {
   "cell_type": "code",
   "execution_count": 19,
   "metadata": {},
   "outputs": [
    {
     "data": {
      "text/plain": [
       "matrix([[0., 0., 0., ..., 0., 0., 0.],\n",
       "        [0., 0., 0., ..., 0., 0., 1.],\n",
       "        [0., 0., 0., ..., 0., 1., 0.],\n",
       "        ...,\n",
       "        [1., 0., 0., ..., 0., 0., 0.],\n",
       "        [0., 0., 0., ..., 0., 0., 1.],\n",
       "        [0., 0., 0., ..., 0., 0., 0.]])"
      ]
     },
     "execution_count": 19,
     "metadata": {},
     "output_type": "execute_result"
    }
   ],
   "source": [
    "mkr = maker_encoder.transform(train[[\"maker\"]]).todense()  # 2\n",
    "mkr"
   ]
  },
  {
   "cell_type": "code",
   "execution_count": 20,
   "metadata": {},
   "outputs": [],
   "source": [
    "# pd.get_dummies(train[[\"maker\"]]) \n",
    "# NO RECOMENDABLE PARA MODELO DE ML\n",
    "# get_dummies NO guarda el estado de mis vairbales"
   ]
  },
  {
   "cell_type": "code",
   "execution_count": 21,
   "metadata": {},
   "outputs": [
    {
     "data": {
      "text/plain": [
       "[array(['audi', 'bmw', 'cclass', 'focus', 'ford', 'hyundi', 'merc',\n",
       "        'skoda', 'toyota', 'vauxhall', 'vw'], dtype=object)]"
      ]
     },
     "execution_count": 21,
     "metadata": {},
     "output_type": "execute_result"
    }
   ],
   "source": [
    "maker_encoder.categories_ # con este metodo"
   ]
  },
  {
   "cell_type": "code",
   "execution_count": 22,
   "metadata": {},
   "outputs": [],
   "source": [
    "# Creo un DataFrame a partir de mkr\n"
   ]
  },
  {
   "cell_type": "code",
   "execution_count": 23,
   "metadata": {},
   "outputs": [
    {
     "data": {
      "text/html": [
       "<div>\n",
       "<style scoped>\n",
       "    .dataframe tbody tr th:only-of-type {\n",
       "        vertical-align: middle;\n",
       "    }\n",
       "\n",
       "    .dataframe tbody tr th {\n",
       "        vertical-align: top;\n",
       "    }\n",
       "\n",
       "    .dataframe thead tr th {\n",
       "        text-align: left;\n",
       "    }\n",
       "</style>\n",
       "<table border=\"1\" class=\"dataframe\">\n",
       "  <thead>\n",
       "    <tr>\n",
       "      <th></th>\n",
       "      <th>audi</th>\n",
       "      <th>bmw</th>\n",
       "      <th>cclass</th>\n",
       "      <th>focus</th>\n",
       "      <th>ford</th>\n",
       "      <th>hyundi</th>\n",
       "      <th>merc</th>\n",
       "      <th>skoda</th>\n",
       "      <th>toyota</th>\n",
       "      <th>vauxhall</th>\n",
       "      <th>vw</th>\n",
       "      <th>actual</th>\n",
       "    </tr>\n",
       "  </thead>\n",
       "  <tbody>\n",
       "    <tr>\n",
       "      <th>25607</th>\n",
       "      <td>0.0</td>\n",
       "      <td>0.0</td>\n",
       "      <td>0.0</td>\n",
       "      <td>0.0</td>\n",
       "      <td>0.0</td>\n",
       "      <td>0.0</td>\n",
       "      <td>0.0</td>\n",
       "      <td>0.0</td>\n",
       "      <td>1.0</td>\n",
       "      <td>0.0</td>\n",
       "      <td>0.0</td>\n",
       "      <td>toyota</td>\n",
       "    </tr>\n",
       "    <tr>\n",
       "      <th>39404</th>\n",
       "      <td>0.0</td>\n",
       "      <td>0.0</td>\n",
       "      <td>0.0</td>\n",
       "      <td>0.0</td>\n",
       "      <td>1.0</td>\n",
       "      <td>0.0</td>\n",
       "      <td>0.0</td>\n",
       "      <td>0.0</td>\n",
       "      <td>0.0</td>\n",
       "      <td>0.0</td>\n",
       "      <td>0.0</td>\n",
       "      <td>ford</td>\n",
       "    </tr>\n",
       "    <tr>\n",
       "      <th>3026</th>\n",
       "      <td>0.0</td>\n",
       "      <td>0.0</td>\n",
       "      <td>1.0</td>\n",
       "      <td>0.0</td>\n",
       "      <td>0.0</td>\n",
       "      <td>0.0</td>\n",
       "      <td>0.0</td>\n",
       "      <td>0.0</td>\n",
       "      <td>0.0</td>\n",
       "      <td>0.0</td>\n",
       "      <td>0.0</td>\n",
       "      <td>cclass</td>\n",
       "    </tr>\n",
       "    <tr>\n",
       "      <th>27846</th>\n",
       "      <td>0.0</td>\n",
       "      <td>0.0</td>\n",
       "      <td>0.0</td>\n",
       "      <td>0.0</td>\n",
       "      <td>0.0</td>\n",
       "      <td>0.0</td>\n",
       "      <td>0.0</td>\n",
       "      <td>1.0</td>\n",
       "      <td>0.0</td>\n",
       "      <td>0.0</td>\n",
       "      <td>0.0</td>\n",
       "      <td>skoda</td>\n",
       "    </tr>\n",
       "    <tr>\n",
       "      <th>202</th>\n",
       "      <td>0.0</td>\n",
       "      <td>0.0</td>\n",
       "      <td>1.0</td>\n",
       "      <td>0.0</td>\n",
       "      <td>0.0</td>\n",
       "      <td>0.0</td>\n",
       "      <td>0.0</td>\n",
       "      <td>0.0</td>\n",
       "      <td>0.0</td>\n",
       "      <td>0.0</td>\n",
       "      <td>0.0</td>\n",
       "      <td>cclass</td>\n",
       "    </tr>\n",
       "  </tbody>\n",
       "</table>\n",
       "</div>"
      ],
      "text/plain": [
       "      audi  bmw cclass focus ford hyundi merc skoda toyota vauxhall   vw  \\\n",
       "25607  0.0  0.0    0.0   0.0  0.0    0.0  0.0   0.0    1.0      0.0  0.0   \n",
       "39404  0.0  0.0    0.0   0.0  1.0    0.0  0.0   0.0    0.0      0.0  0.0   \n",
       "3026   0.0  0.0    1.0   0.0  0.0    0.0  0.0   0.0    0.0      0.0  0.0   \n",
       "27846  0.0  0.0    0.0   0.0  0.0    0.0  0.0   1.0    0.0      0.0  0.0   \n",
       "202    0.0  0.0    1.0   0.0  0.0    0.0  0.0   0.0    0.0      0.0  0.0   \n",
       "\n",
       "       actual  \n",
       "25607  toyota  \n",
       "39404    ford  \n",
       "3026   cclass  \n",
       "27846   skoda  \n",
       "202    cclass  "
      ]
     },
     "execution_count": 23,
     "metadata": {},
     "output_type": "execute_result"
    }
   ],
   "source": [
    "df = pd.DataFrame(mkr, columns=maker_encoder.categories_, index=train[[\"maker\"]].index)\n",
    "df[\"actual\"] = train[[\"maker\"]]\n",
    "df.sample(5)"
   ]
  },
  {
   "cell_type": "markdown",
   "metadata": {},
   "source": [
    "- Feature scaling (comprimir)"
   ]
  },
  {
   "cell_type": "code",
   "execution_count": 24,
   "metadata": {},
   "outputs": [],
   "source": [
    "from sklearn.preprocessing import RobustScaler, StandardScaler, MinMaxScaler, MaxAbsScaler\n",
    "scaler = MaxAbsScaler()"
   ]
  },
  {
   "cell_type": "code",
   "execution_count": 25,
   "metadata": {},
   "outputs": [],
   "source": [
    "# Tomo el objeto y lo preparo\n",
    "# ¿Cuando se usa cada escalador?"
   ]
  },
  {
   "cell_type": "code",
   "execution_count": 26,
   "metadata": {},
   "outputs": [
    {
     "data": {
      "text/plain": [
       "MaxAbsScaler()"
      ]
     },
     "execution_count": 26,
     "metadata": {},
     "output_type": "execute_result"
    }
   ],
   "source": [
    "scaler.fit(train[[\"mileage\"]])"
   ]
  },
  {
   "cell_type": "code",
   "execution_count": 27,
   "metadata": {},
   "outputs": [
    {
     "data": {
      "text/plain": [
       "array([[0.16553   ],\n",
       "       [0.03703   ],\n",
       "       [0.08333333],\n",
       "       ...,\n",
       "       [0.01333333],\n",
       "       [0.00972333],\n",
       "       [0.06899333]])"
      ]
     },
     "execution_count": 27,
     "metadata": {},
     "output_type": "execute_result"
    }
   ],
   "source": [
    "scaled = scaler.transform(train[[\"mileage\"]])\n",
    "scaled"
   ]
  },
  {
   "cell_type": "code",
   "execution_count": 28,
   "metadata": {},
   "outputs": [],
   "source": [
    "# Intentamos hacer que los números sean mas pequeños, pero con escala, para que el modelo pueda entender mejor."
   ]
  },
  {
   "cell_type": "code",
   "execution_count": 29,
   "metadata": {},
   "outputs": [
    {
     "data": {
      "text/html": [
       "<div>\n",
       "<style scoped>\n",
       "    .dataframe tbody tr th:only-of-type {\n",
       "        vertical-align: middle;\n",
       "    }\n",
       "\n",
       "    .dataframe tbody tr th {\n",
       "        vertical-align: top;\n",
       "    }\n",
       "\n",
       "    .dataframe thead th {\n",
       "        text-align: right;\n",
       "    }\n",
       "</style>\n",
       "<table border=\"1\" class=\"dataframe\">\n",
       "  <thead>\n",
       "    <tr style=\"text-align: right;\">\n",
       "      <th></th>\n",
       "      <th>mileage</th>\n",
       "      <th>scaled</th>\n",
       "    </tr>\n",
       "  </thead>\n",
       "  <tbody>\n",
       "    <tr>\n",
       "      <th>49171</th>\n",
       "      <td>20025</td>\n",
       "      <td>0.066750</td>\n",
       "    </tr>\n",
       "    <tr>\n",
       "      <th>59052</th>\n",
       "      <td>6875</td>\n",
       "      <td>0.022917</td>\n",
       "    </tr>\n",
       "    <tr>\n",
       "      <th>26565</th>\n",
       "      <td>20567</td>\n",
       "      <td>0.068557</td>\n",
       "    </tr>\n",
       "    <tr>\n",
       "      <th>60302</th>\n",
       "      <td>16039</td>\n",
       "      <td>0.053463</td>\n",
       "    </tr>\n",
       "    <tr>\n",
       "      <th>6032</th>\n",
       "      <td>93839</td>\n",
       "      <td>0.312797</td>\n",
       "    </tr>\n",
       "  </tbody>\n",
       "</table>\n",
       "</div>"
      ],
      "text/plain": [
       "       mileage    scaled\n",
       "49171    20025  0.066750\n",
       "59052     6875  0.022917\n",
       "26565    20567  0.068557\n",
       "60302    16039  0.053463\n",
       "6032     93839  0.312797"
      ]
     },
     "execution_count": 29,
     "metadata": {},
     "output_type": "execute_result"
    }
   ],
   "source": [
    "values = pd.DataFrame({\"mileage\": train[\"mileage\"].values, \"scaled\": scaled.squeeze() })\n",
    "values.sample(5)"
   ]
  },
  {
   "cell_type": "markdown",
   "metadata": {},
   "source": [
    "- Artefactos"
   ]
  },
  {
   "cell_type": "code",
   "execution_count": 30,
   "metadata": {},
   "outputs": [],
   "source": [
    "# Sirven para transformar una de nuestras observaciones del munddo real, como el diálogo emitido por una persona o un automóvil, a un grupo de números.\n",
    "# Cosas como el OneHotEncoder, CountVectorizer y MaxAbsScaler forman parte de este conjunto de herramientas que, una vez preparadas con fit, debemos preservar para poder re-usarlas en producción.\n",
    "# Estas herramientas son conocidas como artefactos."
   ]
  },
  {
   "cell_type": "code",
   "execution_count": 31,
   "metadata": {},
   "outputs": [],
   "source": [
    "# Una forma de guardar los artefactos es con el serializador \n",
    "# Creo archivo scaler en formato binario \"wb\""
   ]
  },
  {
   "cell_type": "code",
   "execution_count": 32,
   "metadata": {},
   "outputs": [],
   "source": [
    "import pickle\n",
    "\n",
    "with open(\"scaler.pickle\", \"wb\") as wb:\n",
    "    pickle.dump(scaler, wb)\n"
   ]
  },
  {
   "cell_type": "markdown",
   "metadata": {},
   "source": [
    "- Pipelines"
   ]
  },
  {
   "cell_type": "code",
   "execution_count": 33,
   "metadata": {},
   "outputs": [],
   "source": [
    "# Permite agrupar, guardar y ponerlo en producción de manera sencilla"
   ]
  },
  {
   "cell_type": "code",
   "execution_count": 34,
   "metadata": {},
   "outputs": [],
   "source": [
    "from sklearn.pipeline import Pipeline\n",
    "from sklearn.preprocessing import RobustScaler, MinMaxScaler\n",
    "from sklearn.linear_model import LogisticRegression\n",
    "from sklearn.compose import ColumnTransformer\n",
    "from sklearn.pipeline import FeatureUnion\n",
    "from sklearn.impute import SimpleImputer\n",
    "from sklearn import set_config"
   ]
  },
  {
   "cell_type": "code",
   "execution_count": 35,
   "metadata": {},
   "outputs": [],
   "source": [
    "# One-Hot encode maker, transmission y fuelType\n",
    "one_hot_encode = ColumnTransformer([ # con esto decimos que columnas vamos a transformar \n",
    "    (\n",
    "        'one_hot_encode', # Nombre de la transformación\n",
    "        OneHotEncoder(sparse=False), # Transformación a aplicar\n",
    "        [\"maker\", \"transmission\", \"fuelType\"] # Columnas involucradas\n",
    "    )\n",
    "])"
   ]
  },
  {
   "cell_type": "code",
   "execution_count": 36,
   "metadata": {},
   "outputs": [],
   "source": [
    "# sparse hace que la matriz se gaurde en poca memoria"
   ]
  },
  {
   "cell_type": "code",
   "execution_count": 37,
   "metadata": {},
   "outputs": [
    {
     "data": {
      "text/plain": [
       "ColumnTransformer(transformers=[('one_hot_encode', OneHotEncoder(sparse=False),\n",
       "                                 ['maker', 'transmission', 'fuelType'])])"
      ]
     },
     "execution_count": 37,
     "metadata": {},
     "output_type": "execute_result"
    }
   ],
   "source": [
    "one_hot_encode.fit(train)"
   ]
  },
  {
   "cell_type": "code",
   "execution_count": 38,
   "metadata": {},
   "outputs": [
    {
     "data": {
      "text/plain": [
       "(63759, 20)"
      ]
     },
     "execution_count": 38,
     "metadata": {},
     "output_type": "execute_result"
    }
   ],
   "source": [
    "variable = one_hot_encode.transform(train)\n",
    "variable.shape # son 20 columnas porque suma las columnas\n",
    "# 11 de maker + 4 de tranmission + 5 de fuelType"
   ]
  },
  {
   "cell_type": "code",
   "execution_count": 39,
   "metadata": {},
   "outputs": [
    {
     "data": {
      "text/plain": [
       "array([[0., 0., 0., ..., 0., 0., 1.],\n",
       "       [0., 0., 0., ..., 0., 0., 1.],\n",
       "       [0., 0., 0., ..., 0., 0., 1.],\n",
       "       ...,\n",
       "       [1., 0., 0., ..., 0., 0., 1.],\n",
       "       [0., 0., 0., ..., 0., 0., 0.],\n",
       "       [0., 0., 0., ..., 0., 0., 0.]])"
      ]
     },
     "execution_count": 39,
     "metadata": {},
     "output_type": "execute_result"
    }
   ],
   "source": [
    "variable"
   ]
  },
  {
   "cell_type": "code",
   "execution_count": 40,
   "metadata": {},
   "outputs": [],
   "source": [
    "# Robust encode mileage\n",
    "robust_encoding = ColumnTransformer([\n",
    "    ('robust_encoding', RobustScaler(), [\"mileage\"])\n",
    "])"
   ]
  },
  {
   "cell_type": "code",
   "execution_count": 41,
   "metadata": {},
   "outputs": [],
   "source": [
    "# Impute and standard scale mpg and tax\n",
    "impute_and_scale = Pipeline([\n",
    "    ('impute', SimpleImputer(strategy='mean')),\n",
    "    ('scale', MinMaxScaler())\n",
    "])\n",
    "\n",
    "standard_scaling = ColumnTransformer([\n",
    "    ('standard_scaling', impute_and_scale, [\"mpg\", \"tax\"])\n",
    "])"
   ]
  },
  {
   "cell_type": "code",
   "execution_count": 42,
   "metadata": {},
   "outputs": [],
   "source": [
    "# Aquí dice: Las vairbales que te voy a dar pasalas igual, no les hagas nada\n",
    "#"
   ]
  },
  {
   "cell_type": "code",
   "execution_count": 43,
   "metadata": {},
   "outputs": [],
   "source": [
    "# Just pass year and engineSize \n",
    "passthrough = ColumnTransformer([('passthrough', 'passthrough', ['year', \"engineSize\"])])\n"
   ]
  },
  {
   "cell_type": "code",
   "execution_count": 44,
   "metadata": {},
   "outputs": [],
   "source": [
    "# Ensambla todo el pipeline\n",
    "pipe = Pipeline([\n",
    "    (\n",
    "        'features',\n",
    "        FeatureUnion([ # Toma todos los resultadis de columntranformer y los va a unir\n",
    "            ('one_hot_encode', one_hot_encode),\n",
    "            ('robust_encoding', robust_encoding),\n",
    "            ('just_passs', passthrough),\n",
    "            ('scale_and_impute', standard_scaling)\n",
    "        ])\n",
    "    )\n",
    "])"
   ]
  },
  {
   "cell_type": "code",
   "execution_count": 45,
   "metadata": {},
   "outputs": [
    {
     "data": {
      "text/html": [
       "<style>#sk-acbd80fc-47b1-4d03-b169-3166db0f906c {color: black;background-color: white;}#sk-acbd80fc-47b1-4d03-b169-3166db0f906c pre{padding: 0;}#sk-acbd80fc-47b1-4d03-b169-3166db0f906c div.sk-toggleable {background-color: white;}#sk-acbd80fc-47b1-4d03-b169-3166db0f906c label.sk-toggleable__label {cursor: pointer;display: block;width: 100%;margin-bottom: 0;padding: 0.3em;box-sizing: border-box;text-align: center;}#sk-acbd80fc-47b1-4d03-b169-3166db0f906c label.sk-toggleable__label-arrow:before {content: \"▸\";float: left;margin-right: 0.25em;color: #696969;}#sk-acbd80fc-47b1-4d03-b169-3166db0f906c label.sk-toggleable__label-arrow:hover:before {color: black;}#sk-acbd80fc-47b1-4d03-b169-3166db0f906c div.sk-estimator:hover label.sk-toggleable__label-arrow:before {color: black;}#sk-acbd80fc-47b1-4d03-b169-3166db0f906c div.sk-toggleable__content {max-height: 0;max-width: 0;overflow: hidden;text-align: left;background-color: #f0f8ff;}#sk-acbd80fc-47b1-4d03-b169-3166db0f906c div.sk-toggleable__content pre {margin: 0.2em;color: black;border-radius: 0.25em;background-color: #f0f8ff;}#sk-acbd80fc-47b1-4d03-b169-3166db0f906c input.sk-toggleable__control:checked~div.sk-toggleable__content {max-height: 200px;max-width: 100%;overflow: auto;}#sk-acbd80fc-47b1-4d03-b169-3166db0f906c input.sk-toggleable__control:checked~label.sk-toggleable__label-arrow:before {content: \"▾\";}#sk-acbd80fc-47b1-4d03-b169-3166db0f906c div.sk-estimator input.sk-toggleable__control:checked~label.sk-toggleable__label {background-color: #d4ebff;}#sk-acbd80fc-47b1-4d03-b169-3166db0f906c div.sk-label input.sk-toggleable__control:checked~label.sk-toggleable__label {background-color: #d4ebff;}#sk-acbd80fc-47b1-4d03-b169-3166db0f906c input.sk-hidden--visually {border: 0;clip: rect(1px 1px 1px 1px);clip: rect(1px, 1px, 1px, 1px);height: 1px;margin: -1px;overflow: hidden;padding: 0;position: absolute;width: 1px;}#sk-acbd80fc-47b1-4d03-b169-3166db0f906c div.sk-estimator {font-family: monospace;background-color: #f0f8ff;border: 1px dotted black;border-radius: 0.25em;box-sizing: border-box;margin-bottom: 0.5em;}#sk-acbd80fc-47b1-4d03-b169-3166db0f906c div.sk-estimator:hover {background-color: #d4ebff;}#sk-acbd80fc-47b1-4d03-b169-3166db0f906c div.sk-parallel-item::after {content: \"\";width: 100%;border-bottom: 1px solid gray;flex-grow: 1;}#sk-acbd80fc-47b1-4d03-b169-3166db0f906c div.sk-label:hover label.sk-toggleable__label {background-color: #d4ebff;}#sk-acbd80fc-47b1-4d03-b169-3166db0f906c div.sk-serial::before {content: \"\";position: absolute;border-left: 1px solid gray;box-sizing: border-box;top: 2em;bottom: 0;left: 50%;}#sk-acbd80fc-47b1-4d03-b169-3166db0f906c div.sk-serial {display: flex;flex-direction: column;align-items: center;background-color: white;padding-right: 0.2em;padding-left: 0.2em;}#sk-acbd80fc-47b1-4d03-b169-3166db0f906c div.sk-item {z-index: 1;}#sk-acbd80fc-47b1-4d03-b169-3166db0f906c div.sk-parallel {display: flex;align-items: stretch;justify-content: center;background-color: white;}#sk-acbd80fc-47b1-4d03-b169-3166db0f906c div.sk-parallel::before {content: \"\";position: absolute;border-left: 1px solid gray;box-sizing: border-box;top: 2em;bottom: 0;left: 50%;}#sk-acbd80fc-47b1-4d03-b169-3166db0f906c div.sk-parallel-item {display: flex;flex-direction: column;position: relative;background-color: white;}#sk-acbd80fc-47b1-4d03-b169-3166db0f906c div.sk-parallel-item:first-child::after {align-self: flex-end;width: 50%;}#sk-acbd80fc-47b1-4d03-b169-3166db0f906c div.sk-parallel-item:last-child::after {align-self: flex-start;width: 50%;}#sk-acbd80fc-47b1-4d03-b169-3166db0f906c div.sk-parallel-item:only-child::after {width: 0;}#sk-acbd80fc-47b1-4d03-b169-3166db0f906c div.sk-dashed-wrapped {border: 1px dashed gray;margin: 0 0.4em 0.5em 0.4em;box-sizing: border-box;padding-bottom: 0.4em;background-color: white;position: relative;}#sk-acbd80fc-47b1-4d03-b169-3166db0f906c div.sk-label label {font-family: monospace;font-weight: bold;background-color: white;display: inline-block;line-height: 1.2em;}#sk-acbd80fc-47b1-4d03-b169-3166db0f906c div.sk-label-container {position: relative;z-index: 2;text-align: center;}#sk-acbd80fc-47b1-4d03-b169-3166db0f906c div.sk-container {/* jupyter's `normalize.less` sets `[hidden] { display: none; }` but bootstrap.min.css set `[hidden] { display: none !important; }` so we also need the `!important` here to be able to override the default hidden behavior on the sphinx rendered scikit-learn.org. See: https://github.com/scikit-learn/scikit-learn/issues/21755 */display: inline-block !important;position: relative;}#sk-acbd80fc-47b1-4d03-b169-3166db0f906c div.sk-text-repr-fallback {display: none;}</style><div id=\"sk-acbd80fc-47b1-4d03-b169-3166db0f906c\" class=\"sk-top-container\"><div class=\"sk-text-repr-fallback\"><pre>Pipeline(steps=[(&#x27;features&#x27;,\n",
       "                 FeatureUnion(transformer_list=[(&#x27;one_hot_encode&#x27;,\n",
       "                                                 ColumnTransformer(transformers=[(&#x27;one_hot_encode&#x27;,\n",
       "                                                                                  OneHotEncoder(sparse=False),\n",
       "                                                                                  [&#x27;maker&#x27;,\n",
       "                                                                                   &#x27;transmission&#x27;,\n",
       "                                                                                   &#x27;fuelType&#x27;])])),\n",
       "                                                (&#x27;robust_encoding&#x27;,\n",
       "                                                 ColumnTransformer(transformers=[(&#x27;robust_encoding&#x27;,\n",
       "                                                                                  RobustScaler(),\n",
       "                                                                                  [&#x27;mileage&#x27;])])),\n",
       "                                                (&#x27;just_passs&#x27;,\n",
       "                                                 ColumnTransformer(transformers=[(&#x27;passthrough&#x27;,\n",
       "                                                                                  &#x27;passthrough&#x27;,\n",
       "                                                                                  [&#x27;year&#x27;,\n",
       "                                                                                   &#x27;engineSize&#x27;])])),\n",
       "                                                (&#x27;scale_and_impute&#x27;,\n",
       "                                                 ColumnTransformer(transformers=[(&#x27;standard_scaling&#x27;,\n",
       "                                                                                  Pipeline(steps=[(&#x27;impute&#x27;,\n",
       "                                                                                                   SimpleImputer()),\n",
       "                                                                                                  (&#x27;scale&#x27;,\n",
       "                                                                                                   MinMaxScaler())]),\n",
       "                                                                                  [&#x27;mpg&#x27;,\n",
       "                                                                                   &#x27;tax&#x27;])]))]))])</pre><b>Please rerun this cell to show the HTML repr or trust the notebook.</b></div><div class=\"sk-container\" hidden><div class=\"sk-item sk-dashed-wrapped\"><div class=\"sk-label-container\"><div class=\"sk-label sk-toggleable\"><input class=\"sk-toggleable__control sk-hidden--visually\" id=\"f3f3db4d-4b4a-446d-94fc-61fa791b797f\" type=\"checkbox\" ><label for=\"f3f3db4d-4b4a-446d-94fc-61fa791b797f\" class=\"sk-toggleable__label sk-toggleable__label-arrow\">Pipeline</label><div class=\"sk-toggleable__content\"><pre>Pipeline(steps=[(&#x27;features&#x27;,\n",
       "                 FeatureUnion(transformer_list=[(&#x27;one_hot_encode&#x27;,\n",
       "                                                 ColumnTransformer(transformers=[(&#x27;one_hot_encode&#x27;,\n",
       "                                                                                  OneHotEncoder(sparse=False),\n",
       "                                                                                  [&#x27;maker&#x27;,\n",
       "                                                                                   &#x27;transmission&#x27;,\n",
       "                                                                                   &#x27;fuelType&#x27;])])),\n",
       "                                                (&#x27;robust_encoding&#x27;,\n",
       "                                                 ColumnTransformer(transformers=[(&#x27;robust_encoding&#x27;,\n",
       "                                                                                  RobustScaler(),\n",
       "                                                                                  [&#x27;mileage&#x27;])])),\n",
       "                                                (&#x27;just_passs&#x27;,\n",
       "                                                 ColumnTransformer(transformers=[(&#x27;passthrough&#x27;,\n",
       "                                                                                  &#x27;passthrough&#x27;,\n",
       "                                                                                  [&#x27;year&#x27;,\n",
       "                                                                                   &#x27;engineSize&#x27;])])),\n",
       "                                                (&#x27;scale_and_impute&#x27;,\n",
       "                                                 ColumnTransformer(transformers=[(&#x27;standard_scaling&#x27;,\n",
       "                                                                                  Pipeline(steps=[(&#x27;impute&#x27;,\n",
       "                                                                                                   SimpleImputer()),\n",
       "                                                                                                  (&#x27;scale&#x27;,\n",
       "                                                                                                   MinMaxScaler())]),\n",
       "                                                                                  [&#x27;mpg&#x27;,\n",
       "                                                                                   &#x27;tax&#x27;])]))]))])</pre></div></div></div><div class=\"sk-serial\"><div class=\"sk-item sk-dashed-wrapped\"><div class=\"sk-label-container\"><div class=\"sk-label sk-toggleable\"><input class=\"sk-toggleable__control sk-hidden--visually\" id=\"b1954601-ac45-480b-9229-1c0c8f93f1bd\" type=\"checkbox\" ><label for=\"b1954601-ac45-480b-9229-1c0c8f93f1bd\" class=\"sk-toggleable__label sk-toggleable__label-arrow\">features: FeatureUnion</label><div class=\"sk-toggleable__content\"><pre>FeatureUnion(transformer_list=[(&#x27;one_hot_encode&#x27;,\n",
       "                                ColumnTransformer(transformers=[(&#x27;one_hot_encode&#x27;,\n",
       "                                                                 OneHotEncoder(sparse=False),\n",
       "                                                                 [&#x27;maker&#x27;,\n",
       "                                                                  &#x27;transmission&#x27;,\n",
       "                                                                  &#x27;fuelType&#x27;])])),\n",
       "                               (&#x27;robust_encoding&#x27;,\n",
       "                                ColumnTransformer(transformers=[(&#x27;robust_encoding&#x27;,\n",
       "                                                                 RobustScaler(),\n",
       "                                                                 [&#x27;mileage&#x27;])])),\n",
       "                               (&#x27;just_passs&#x27;,\n",
       "                                ColumnTransformer(transformers=[(&#x27;passthrough&#x27;,\n",
       "                                                                 &#x27;passthrough&#x27;,\n",
       "                                                                 [&#x27;year&#x27;,\n",
       "                                                                  &#x27;engineSize&#x27;])])),\n",
       "                               (&#x27;scale_and_impute&#x27;,\n",
       "                                ColumnTransformer(transformers=[(&#x27;standard_scaling&#x27;,\n",
       "                                                                 Pipeline(steps=[(&#x27;impute&#x27;,\n",
       "                                                                                  SimpleImputer()),\n",
       "                                                                                 (&#x27;scale&#x27;,\n",
       "                                                                                  MinMaxScaler())]),\n",
       "                                                                 [&#x27;mpg&#x27;,\n",
       "                                                                  &#x27;tax&#x27;])]))])</pre></div></div></div><div class=\"sk-parallel\"><div class=\"sk-parallel-item\"><div class=\"sk-item\"><div class=\"sk-label-container\"><div class=\"sk-label sk-toggleable\"><label>one_hot_encode</label></div></div><div class=\"sk-serial\"><div class=\"sk-item sk-dashed-wrapped\"><div class=\"sk-parallel\"><div class=\"sk-parallel-item\"><div class=\"sk-item\"><div class=\"sk-label-container\"><div class=\"sk-label sk-toggleable\"><input class=\"sk-toggleable__control sk-hidden--visually\" id=\"f6d2a1cb-85a7-4ad1-a639-7b7d4913876d\" type=\"checkbox\" ><label for=\"f6d2a1cb-85a7-4ad1-a639-7b7d4913876d\" class=\"sk-toggleable__label sk-toggleable__label-arrow\">one_hot_encode</label><div class=\"sk-toggleable__content\"><pre>[&#x27;maker&#x27;, &#x27;transmission&#x27;, &#x27;fuelType&#x27;]</pre></div></div></div><div class=\"sk-serial\"><div class=\"sk-item\"><div class=\"sk-estimator sk-toggleable\"><input class=\"sk-toggleable__control sk-hidden--visually\" id=\"ec608f3c-1ed2-4b06-8578-7861add62b2b\" type=\"checkbox\" ><label for=\"ec608f3c-1ed2-4b06-8578-7861add62b2b\" class=\"sk-toggleable__label sk-toggleable__label-arrow\">OneHotEncoder</label><div class=\"sk-toggleable__content\"><pre>OneHotEncoder(sparse=False)</pre></div></div></div></div></div></div></div></div></div></div></div><div class=\"sk-parallel-item\"><div class=\"sk-item\"><div class=\"sk-label-container\"><div class=\"sk-label sk-toggleable\"><label>robust_encoding</label></div></div><div class=\"sk-serial\"><div class=\"sk-item sk-dashed-wrapped\"><div class=\"sk-parallel\"><div class=\"sk-parallel-item\"><div class=\"sk-item\"><div class=\"sk-label-container\"><div class=\"sk-label sk-toggleable\"><input class=\"sk-toggleable__control sk-hidden--visually\" id=\"00d85f0d-7a77-4ea3-bd00-c83df5055515\" type=\"checkbox\" ><label for=\"00d85f0d-7a77-4ea3-bd00-c83df5055515\" class=\"sk-toggleable__label sk-toggleable__label-arrow\">robust_encoding</label><div class=\"sk-toggleable__content\"><pre>[&#x27;mileage&#x27;]</pre></div></div></div><div class=\"sk-serial\"><div class=\"sk-item\"><div class=\"sk-estimator sk-toggleable\"><input class=\"sk-toggleable__control sk-hidden--visually\" id=\"5f89769e-2300-4e55-b8ef-23b952a02845\" type=\"checkbox\" ><label for=\"5f89769e-2300-4e55-b8ef-23b952a02845\" class=\"sk-toggleable__label sk-toggleable__label-arrow\">RobustScaler</label><div class=\"sk-toggleable__content\"><pre>RobustScaler()</pre></div></div></div></div></div></div></div></div></div></div></div><div class=\"sk-parallel-item\"><div class=\"sk-item\"><div class=\"sk-label-container\"><div class=\"sk-label sk-toggleable\"><label>just_passs</label></div></div><div class=\"sk-serial\"><div class=\"sk-item sk-dashed-wrapped\"><div class=\"sk-parallel\"><div class=\"sk-parallel-item\"><div class=\"sk-item\"><div class=\"sk-label-container\"><div class=\"sk-label sk-toggleable\"><input class=\"sk-toggleable__control sk-hidden--visually\" id=\"09a37828-9272-469b-b982-5911efbd6c1c\" type=\"checkbox\" ><label for=\"09a37828-9272-469b-b982-5911efbd6c1c\" class=\"sk-toggleable__label sk-toggleable__label-arrow\">passthrough</label><div class=\"sk-toggleable__content\"><pre>[&#x27;year&#x27;, &#x27;engineSize&#x27;]</pre></div></div></div><div class=\"sk-serial\"><div class=\"sk-item\"><div class=\"sk-estimator sk-toggleable\"><input class=\"sk-toggleable__control sk-hidden--visually\" id=\"edffc540-4ab6-44b1-b425-dd40825650cc\" type=\"checkbox\" ><label for=\"edffc540-4ab6-44b1-b425-dd40825650cc\" class=\"sk-toggleable__label sk-toggleable__label-arrow\">passthrough</label><div class=\"sk-toggleable__content\"><pre>passthrough</pre></div></div></div></div></div></div></div></div></div></div></div><div class=\"sk-parallel-item\"><div class=\"sk-item\"><div class=\"sk-label-container\"><div class=\"sk-label sk-toggleable\"><label>scale_and_impute</label></div></div><div class=\"sk-serial\"><div class=\"sk-item sk-dashed-wrapped\"><div class=\"sk-parallel\"><div class=\"sk-parallel-item\"><div class=\"sk-item\"><div class=\"sk-label-container\"><div class=\"sk-label sk-toggleable\"><input class=\"sk-toggleable__control sk-hidden--visually\" id=\"56e39224-cef6-4d60-93a7-5b6e341e65d4\" type=\"checkbox\" ><label for=\"56e39224-cef6-4d60-93a7-5b6e341e65d4\" class=\"sk-toggleable__label sk-toggleable__label-arrow\">standard_scaling</label><div class=\"sk-toggleable__content\"><pre>[&#x27;mpg&#x27;, &#x27;tax&#x27;]</pre></div></div></div><div class=\"sk-serial\"><div class=\"sk-item\"><div class=\"sk-serial\"><div class=\"sk-item\"><div class=\"sk-estimator sk-toggleable\"><input class=\"sk-toggleable__control sk-hidden--visually\" id=\"61f702e2-537f-45c8-adde-056645c64342\" type=\"checkbox\" ><label for=\"61f702e2-537f-45c8-adde-056645c64342\" class=\"sk-toggleable__label sk-toggleable__label-arrow\">SimpleImputer</label><div class=\"sk-toggleable__content\"><pre>SimpleImputer()</pre></div></div></div><div class=\"sk-item\"><div class=\"sk-estimator sk-toggleable\"><input class=\"sk-toggleable__control sk-hidden--visually\" id=\"0ffc956b-1241-42e9-84d3-672161d1d3ff\" type=\"checkbox\" ><label for=\"0ffc956b-1241-42e9-84d3-672161d1d3ff\" class=\"sk-toggleable__label sk-toggleable__label-arrow\">MinMaxScaler</label><div class=\"sk-toggleable__content\"><pre>MinMaxScaler()</pre></div></div></div></div></div></div></div></div></div></div></div></div></div></div></div></div></div></div></div>"
      ],
      "text/plain": [
       "Pipeline(steps=[('features',\n",
       "                 FeatureUnion(transformer_list=[('one_hot_encode',\n",
       "                                                 ColumnTransformer(transformers=[('one_hot_encode',\n",
       "                                                                                  OneHotEncoder(sparse=False),\n",
       "                                                                                  ['maker',\n",
       "                                                                                   'transmission',\n",
       "                                                                                   'fuelType'])])),\n",
       "                                                ('robust_encoding',\n",
       "                                                 ColumnTransformer(transformers=[('robust_encoding',\n",
       "                                                                                  RobustScaler(),\n",
       "                                                                                  ['mileage'])])),\n",
       "                                                ('just_passs',\n",
       "                                                 ColumnTransformer(transformers=[('passthrough',\n",
       "                                                                                  'passthrough',\n",
       "                                                                                  ['year',\n",
       "                                                                                   'engineSize'])])),\n",
       "                                                ('scale_and_impute',\n",
       "                                                 ColumnTransformer(transformers=[('standard_scaling',\n",
       "                                                                                  Pipeline(steps=[('impute',\n",
       "                                                                                                   SimpleImputer()),\n",
       "                                                                                                  ('scale',\n",
       "                                                                                                   MinMaxScaler())]),\n",
       "                                                                                  ['mpg',\n",
       "                                                                                   'tax'])]))]))])"
      ]
     },
     "execution_count": 45,
     "metadata": {},
     "output_type": "execute_result"
    }
   ],
   "source": [
    "from sklearn import set_config\n",
    "\n",
    "set_config(display=\"diagram\")\n",
    "pipe"
   ]
  },
  {
   "cell_type": "code",
   "execution_count": 46,
   "metadata": {},
   "outputs": [
    {
     "data": {
      "text/html": [
       "<style>#sk-66cedd39-f0ea-427c-9d52-8e159c9e27e3 {color: black;background-color: white;}#sk-66cedd39-f0ea-427c-9d52-8e159c9e27e3 pre{padding: 0;}#sk-66cedd39-f0ea-427c-9d52-8e159c9e27e3 div.sk-toggleable {background-color: white;}#sk-66cedd39-f0ea-427c-9d52-8e159c9e27e3 label.sk-toggleable__label {cursor: pointer;display: block;width: 100%;margin-bottom: 0;padding: 0.3em;box-sizing: border-box;text-align: center;}#sk-66cedd39-f0ea-427c-9d52-8e159c9e27e3 label.sk-toggleable__label-arrow:before {content: \"▸\";float: left;margin-right: 0.25em;color: #696969;}#sk-66cedd39-f0ea-427c-9d52-8e159c9e27e3 label.sk-toggleable__label-arrow:hover:before {color: black;}#sk-66cedd39-f0ea-427c-9d52-8e159c9e27e3 div.sk-estimator:hover label.sk-toggleable__label-arrow:before {color: black;}#sk-66cedd39-f0ea-427c-9d52-8e159c9e27e3 div.sk-toggleable__content {max-height: 0;max-width: 0;overflow: hidden;text-align: left;background-color: #f0f8ff;}#sk-66cedd39-f0ea-427c-9d52-8e159c9e27e3 div.sk-toggleable__content pre {margin: 0.2em;color: black;border-radius: 0.25em;background-color: #f0f8ff;}#sk-66cedd39-f0ea-427c-9d52-8e159c9e27e3 input.sk-toggleable__control:checked~div.sk-toggleable__content {max-height: 200px;max-width: 100%;overflow: auto;}#sk-66cedd39-f0ea-427c-9d52-8e159c9e27e3 input.sk-toggleable__control:checked~label.sk-toggleable__label-arrow:before {content: \"▾\";}#sk-66cedd39-f0ea-427c-9d52-8e159c9e27e3 div.sk-estimator input.sk-toggleable__control:checked~label.sk-toggleable__label {background-color: #d4ebff;}#sk-66cedd39-f0ea-427c-9d52-8e159c9e27e3 div.sk-label input.sk-toggleable__control:checked~label.sk-toggleable__label {background-color: #d4ebff;}#sk-66cedd39-f0ea-427c-9d52-8e159c9e27e3 input.sk-hidden--visually {border: 0;clip: rect(1px 1px 1px 1px);clip: rect(1px, 1px, 1px, 1px);height: 1px;margin: -1px;overflow: hidden;padding: 0;position: absolute;width: 1px;}#sk-66cedd39-f0ea-427c-9d52-8e159c9e27e3 div.sk-estimator {font-family: monospace;background-color: #f0f8ff;border: 1px dotted black;border-radius: 0.25em;box-sizing: border-box;margin-bottom: 0.5em;}#sk-66cedd39-f0ea-427c-9d52-8e159c9e27e3 div.sk-estimator:hover {background-color: #d4ebff;}#sk-66cedd39-f0ea-427c-9d52-8e159c9e27e3 div.sk-parallel-item::after {content: \"\";width: 100%;border-bottom: 1px solid gray;flex-grow: 1;}#sk-66cedd39-f0ea-427c-9d52-8e159c9e27e3 div.sk-label:hover label.sk-toggleable__label {background-color: #d4ebff;}#sk-66cedd39-f0ea-427c-9d52-8e159c9e27e3 div.sk-serial::before {content: \"\";position: absolute;border-left: 1px solid gray;box-sizing: border-box;top: 2em;bottom: 0;left: 50%;}#sk-66cedd39-f0ea-427c-9d52-8e159c9e27e3 div.sk-serial {display: flex;flex-direction: column;align-items: center;background-color: white;padding-right: 0.2em;padding-left: 0.2em;}#sk-66cedd39-f0ea-427c-9d52-8e159c9e27e3 div.sk-item {z-index: 1;}#sk-66cedd39-f0ea-427c-9d52-8e159c9e27e3 div.sk-parallel {display: flex;align-items: stretch;justify-content: center;background-color: white;}#sk-66cedd39-f0ea-427c-9d52-8e159c9e27e3 div.sk-parallel::before {content: \"\";position: absolute;border-left: 1px solid gray;box-sizing: border-box;top: 2em;bottom: 0;left: 50%;}#sk-66cedd39-f0ea-427c-9d52-8e159c9e27e3 div.sk-parallel-item {display: flex;flex-direction: column;position: relative;background-color: white;}#sk-66cedd39-f0ea-427c-9d52-8e159c9e27e3 div.sk-parallel-item:first-child::after {align-self: flex-end;width: 50%;}#sk-66cedd39-f0ea-427c-9d52-8e159c9e27e3 div.sk-parallel-item:last-child::after {align-self: flex-start;width: 50%;}#sk-66cedd39-f0ea-427c-9d52-8e159c9e27e3 div.sk-parallel-item:only-child::after {width: 0;}#sk-66cedd39-f0ea-427c-9d52-8e159c9e27e3 div.sk-dashed-wrapped {border: 1px dashed gray;margin: 0 0.4em 0.5em 0.4em;box-sizing: border-box;padding-bottom: 0.4em;background-color: white;position: relative;}#sk-66cedd39-f0ea-427c-9d52-8e159c9e27e3 div.sk-label label {font-family: monospace;font-weight: bold;background-color: white;display: inline-block;line-height: 1.2em;}#sk-66cedd39-f0ea-427c-9d52-8e159c9e27e3 div.sk-label-container {position: relative;z-index: 2;text-align: center;}#sk-66cedd39-f0ea-427c-9d52-8e159c9e27e3 div.sk-container {/* jupyter's `normalize.less` sets `[hidden] { display: none; }` but bootstrap.min.css set `[hidden] { display: none !important; }` so we also need the `!important` here to be able to override the default hidden behavior on the sphinx rendered scikit-learn.org. See: https://github.com/scikit-learn/scikit-learn/issues/21755 */display: inline-block !important;position: relative;}#sk-66cedd39-f0ea-427c-9d52-8e159c9e27e3 div.sk-text-repr-fallback {display: none;}</style><div id=\"sk-66cedd39-f0ea-427c-9d52-8e159c9e27e3\" class=\"sk-top-container\"><div class=\"sk-text-repr-fallback\"><pre>Pipeline(steps=[(&#x27;features&#x27;,\n",
       "                 FeatureUnion(transformer_list=[(&#x27;one_hot_encode&#x27;,\n",
       "                                                 ColumnTransformer(transformers=[(&#x27;one_hot_encode&#x27;,\n",
       "                                                                                  OneHotEncoder(sparse=False),\n",
       "                                                                                  [&#x27;maker&#x27;,\n",
       "                                                                                   &#x27;transmission&#x27;,\n",
       "                                                                                   &#x27;fuelType&#x27;])])),\n",
       "                                                (&#x27;robust_encoding&#x27;,\n",
       "                                                 ColumnTransformer(transformers=[(&#x27;robust_encoding&#x27;,\n",
       "                                                                                  RobustScaler(),\n",
       "                                                                                  [&#x27;mileage&#x27;])])),\n",
       "                                                (&#x27;just_passs&#x27;,\n",
       "                                                 ColumnTransformer(transformers=[(&#x27;passthrough&#x27;,\n",
       "                                                                                  &#x27;passthrough&#x27;,\n",
       "                                                                                  [&#x27;year&#x27;,\n",
       "                                                                                   &#x27;engineSize&#x27;])])),\n",
       "                                                (&#x27;scale_and_impute&#x27;,\n",
       "                                                 ColumnTransformer(transformers=[(&#x27;standard_scaling&#x27;,\n",
       "                                                                                  Pipeline(steps=[(&#x27;impute&#x27;,\n",
       "                                                                                                   SimpleImputer()),\n",
       "                                                                                                  (&#x27;scale&#x27;,\n",
       "                                                                                                   MinMaxScaler())]),\n",
       "                                                                                  [&#x27;mpg&#x27;,\n",
       "                                                                                   &#x27;tax&#x27;])]))]))])</pre><b>Please rerun this cell to show the HTML repr or trust the notebook.</b></div><div class=\"sk-container\" hidden><div class=\"sk-item sk-dashed-wrapped\"><div class=\"sk-label-container\"><div class=\"sk-label sk-toggleable\"><input class=\"sk-toggleable__control sk-hidden--visually\" id=\"1fe0aa7b-f37a-4c72-9e65-4ca8815cc508\" type=\"checkbox\" ><label for=\"1fe0aa7b-f37a-4c72-9e65-4ca8815cc508\" class=\"sk-toggleable__label sk-toggleable__label-arrow\">Pipeline</label><div class=\"sk-toggleable__content\"><pre>Pipeline(steps=[(&#x27;features&#x27;,\n",
       "                 FeatureUnion(transformer_list=[(&#x27;one_hot_encode&#x27;,\n",
       "                                                 ColumnTransformer(transformers=[(&#x27;one_hot_encode&#x27;,\n",
       "                                                                                  OneHotEncoder(sparse=False),\n",
       "                                                                                  [&#x27;maker&#x27;,\n",
       "                                                                                   &#x27;transmission&#x27;,\n",
       "                                                                                   &#x27;fuelType&#x27;])])),\n",
       "                                                (&#x27;robust_encoding&#x27;,\n",
       "                                                 ColumnTransformer(transformers=[(&#x27;robust_encoding&#x27;,\n",
       "                                                                                  RobustScaler(),\n",
       "                                                                                  [&#x27;mileage&#x27;])])),\n",
       "                                                (&#x27;just_passs&#x27;,\n",
       "                                                 ColumnTransformer(transformers=[(&#x27;passthrough&#x27;,\n",
       "                                                                                  &#x27;passthrough&#x27;,\n",
       "                                                                                  [&#x27;year&#x27;,\n",
       "                                                                                   &#x27;engineSize&#x27;])])),\n",
       "                                                (&#x27;scale_and_impute&#x27;,\n",
       "                                                 ColumnTransformer(transformers=[(&#x27;standard_scaling&#x27;,\n",
       "                                                                                  Pipeline(steps=[(&#x27;impute&#x27;,\n",
       "                                                                                                   SimpleImputer()),\n",
       "                                                                                                  (&#x27;scale&#x27;,\n",
       "                                                                                                   MinMaxScaler())]),\n",
       "                                                                                  [&#x27;mpg&#x27;,\n",
       "                                                                                   &#x27;tax&#x27;])]))]))])</pre></div></div></div><div class=\"sk-serial\"><div class=\"sk-item sk-dashed-wrapped\"><div class=\"sk-label-container\"><div class=\"sk-label sk-toggleable\"><input class=\"sk-toggleable__control sk-hidden--visually\" id=\"ed2c8042-fe30-4f82-b7b9-b5e524207814\" type=\"checkbox\" ><label for=\"ed2c8042-fe30-4f82-b7b9-b5e524207814\" class=\"sk-toggleable__label sk-toggleable__label-arrow\">features: FeatureUnion</label><div class=\"sk-toggleable__content\"><pre>FeatureUnion(transformer_list=[(&#x27;one_hot_encode&#x27;,\n",
       "                                ColumnTransformer(transformers=[(&#x27;one_hot_encode&#x27;,\n",
       "                                                                 OneHotEncoder(sparse=False),\n",
       "                                                                 [&#x27;maker&#x27;,\n",
       "                                                                  &#x27;transmission&#x27;,\n",
       "                                                                  &#x27;fuelType&#x27;])])),\n",
       "                               (&#x27;robust_encoding&#x27;,\n",
       "                                ColumnTransformer(transformers=[(&#x27;robust_encoding&#x27;,\n",
       "                                                                 RobustScaler(),\n",
       "                                                                 [&#x27;mileage&#x27;])])),\n",
       "                               (&#x27;just_passs&#x27;,\n",
       "                                ColumnTransformer(transformers=[(&#x27;passthrough&#x27;,\n",
       "                                                                 &#x27;passthrough&#x27;,\n",
       "                                                                 [&#x27;year&#x27;,\n",
       "                                                                  &#x27;engineSize&#x27;])])),\n",
       "                               (&#x27;scale_and_impute&#x27;,\n",
       "                                ColumnTransformer(transformers=[(&#x27;standard_scaling&#x27;,\n",
       "                                                                 Pipeline(steps=[(&#x27;impute&#x27;,\n",
       "                                                                                  SimpleImputer()),\n",
       "                                                                                 (&#x27;scale&#x27;,\n",
       "                                                                                  MinMaxScaler())]),\n",
       "                                                                 [&#x27;mpg&#x27;,\n",
       "                                                                  &#x27;tax&#x27;])]))])</pre></div></div></div><div class=\"sk-parallel\"><div class=\"sk-parallel-item\"><div class=\"sk-item\"><div class=\"sk-label-container\"><div class=\"sk-label sk-toggleable\"><label>one_hot_encode</label></div></div><div class=\"sk-serial\"><div class=\"sk-item sk-dashed-wrapped\"><div class=\"sk-parallel\"><div class=\"sk-parallel-item\"><div class=\"sk-item\"><div class=\"sk-label-container\"><div class=\"sk-label sk-toggleable\"><input class=\"sk-toggleable__control sk-hidden--visually\" id=\"e19d66bc-00d2-47c7-bd49-2568db64ae85\" type=\"checkbox\" ><label for=\"e19d66bc-00d2-47c7-bd49-2568db64ae85\" class=\"sk-toggleable__label sk-toggleable__label-arrow\">one_hot_encode</label><div class=\"sk-toggleable__content\"><pre>[&#x27;maker&#x27;, &#x27;transmission&#x27;, &#x27;fuelType&#x27;]</pre></div></div></div><div class=\"sk-serial\"><div class=\"sk-item\"><div class=\"sk-estimator sk-toggleable\"><input class=\"sk-toggleable__control sk-hidden--visually\" id=\"a48eea2f-de77-4a7c-bc94-612c0f40f6b0\" type=\"checkbox\" ><label for=\"a48eea2f-de77-4a7c-bc94-612c0f40f6b0\" class=\"sk-toggleable__label sk-toggleable__label-arrow\">OneHotEncoder</label><div class=\"sk-toggleable__content\"><pre>OneHotEncoder(sparse=False)</pre></div></div></div></div></div></div></div></div></div></div></div><div class=\"sk-parallel-item\"><div class=\"sk-item\"><div class=\"sk-label-container\"><div class=\"sk-label sk-toggleable\"><label>robust_encoding</label></div></div><div class=\"sk-serial\"><div class=\"sk-item sk-dashed-wrapped\"><div class=\"sk-parallel\"><div class=\"sk-parallel-item\"><div class=\"sk-item\"><div class=\"sk-label-container\"><div class=\"sk-label sk-toggleable\"><input class=\"sk-toggleable__control sk-hidden--visually\" id=\"a7e8de2c-5d7a-476a-876a-30ff58549cfe\" type=\"checkbox\" ><label for=\"a7e8de2c-5d7a-476a-876a-30ff58549cfe\" class=\"sk-toggleable__label sk-toggleable__label-arrow\">robust_encoding</label><div class=\"sk-toggleable__content\"><pre>[&#x27;mileage&#x27;]</pre></div></div></div><div class=\"sk-serial\"><div class=\"sk-item\"><div class=\"sk-estimator sk-toggleable\"><input class=\"sk-toggleable__control sk-hidden--visually\" id=\"1c201455-90f9-4645-b6a4-07979b934810\" type=\"checkbox\" ><label for=\"1c201455-90f9-4645-b6a4-07979b934810\" class=\"sk-toggleable__label sk-toggleable__label-arrow\">RobustScaler</label><div class=\"sk-toggleable__content\"><pre>RobustScaler()</pre></div></div></div></div></div></div></div></div></div></div></div><div class=\"sk-parallel-item\"><div class=\"sk-item\"><div class=\"sk-label-container\"><div class=\"sk-label sk-toggleable\"><label>just_passs</label></div></div><div class=\"sk-serial\"><div class=\"sk-item sk-dashed-wrapped\"><div class=\"sk-parallel\"><div class=\"sk-parallel-item\"><div class=\"sk-item\"><div class=\"sk-label-container\"><div class=\"sk-label sk-toggleable\"><input class=\"sk-toggleable__control sk-hidden--visually\" id=\"0d8537d6-1d17-4369-9e1d-7cd6537a1abf\" type=\"checkbox\" ><label for=\"0d8537d6-1d17-4369-9e1d-7cd6537a1abf\" class=\"sk-toggleable__label sk-toggleable__label-arrow\">passthrough</label><div class=\"sk-toggleable__content\"><pre>[&#x27;year&#x27;, &#x27;engineSize&#x27;]</pre></div></div></div><div class=\"sk-serial\"><div class=\"sk-item\"><div class=\"sk-estimator sk-toggleable\"><input class=\"sk-toggleable__control sk-hidden--visually\" id=\"e37d2af3-dfd4-4767-87ed-c9944e303260\" type=\"checkbox\" ><label for=\"e37d2af3-dfd4-4767-87ed-c9944e303260\" class=\"sk-toggleable__label sk-toggleable__label-arrow\">passthrough</label><div class=\"sk-toggleable__content\"><pre>passthrough</pre></div></div></div></div></div></div></div></div></div></div></div><div class=\"sk-parallel-item\"><div class=\"sk-item\"><div class=\"sk-label-container\"><div class=\"sk-label sk-toggleable\"><label>scale_and_impute</label></div></div><div class=\"sk-serial\"><div class=\"sk-item sk-dashed-wrapped\"><div class=\"sk-parallel\"><div class=\"sk-parallel-item\"><div class=\"sk-item\"><div class=\"sk-label-container\"><div class=\"sk-label sk-toggleable\"><input class=\"sk-toggleable__control sk-hidden--visually\" id=\"5142ce62-124e-4a13-a54c-157964d50613\" type=\"checkbox\" ><label for=\"5142ce62-124e-4a13-a54c-157964d50613\" class=\"sk-toggleable__label sk-toggleable__label-arrow\">standard_scaling</label><div class=\"sk-toggleable__content\"><pre>[&#x27;mpg&#x27;, &#x27;tax&#x27;]</pre></div></div></div><div class=\"sk-serial\"><div class=\"sk-item\"><div class=\"sk-serial\"><div class=\"sk-item\"><div class=\"sk-estimator sk-toggleable\"><input class=\"sk-toggleable__control sk-hidden--visually\" id=\"1c54910e-3a5f-4aba-981c-7607a9c8f5c8\" type=\"checkbox\" ><label for=\"1c54910e-3a5f-4aba-981c-7607a9c8f5c8\" class=\"sk-toggleable__label sk-toggleable__label-arrow\">SimpleImputer</label><div class=\"sk-toggleable__content\"><pre>SimpleImputer()</pre></div></div></div><div class=\"sk-item\"><div class=\"sk-estimator sk-toggleable\"><input class=\"sk-toggleable__control sk-hidden--visually\" id=\"e36575e6-c971-46a0-b4b1-d202011255ba\" type=\"checkbox\" ><label for=\"e36575e6-c971-46a0-b4b1-d202011255ba\" class=\"sk-toggleable__label sk-toggleable__label-arrow\">MinMaxScaler</label><div class=\"sk-toggleable__content\"><pre>MinMaxScaler()</pre></div></div></div></div></div></div></div></div></div></div></div></div></div></div></div></div></div></div></div>"
      ],
      "text/plain": [
       "Pipeline(steps=[('features',\n",
       "                 FeatureUnion(transformer_list=[('one_hot_encode',\n",
       "                                                 ColumnTransformer(transformers=[('one_hot_encode',\n",
       "                                                                                  OneHotEncoder(sparse=False),\n",
       "                                                                                  ['maker',\n",
       "                                                                                   'transmission',\n",
       "                                                                                   'fuelType'])])),\n",
       "                                                ('robust_encoding',\n",
       "                                                 ColumnTransformer(transformers=[('robust_encoding',\n",
       "                                                                                  RobustScaler(),\n",
       "                                                                                  ['mileage'])])),\n",
       "                                                ('just_passs',\n",
       "                                                 ColumnTransformer(transformers=[('passthrough',\n",
       "                                                                                  'passthrough',\n",
       "                                                                                  ['year',\n",
       "                                                                                   'engineSize'])])),\n",
       "                                                ('scale_and_impute',\n",
       "                                                 ColumnTransformer(transformers=[('standard_scaling',\n",
       "                                                                                  Pipeline(steps=[('impute',\n",
       "                                                                                                   SimpleImputer()),\n",
       "                                                                                                  ('scale',\n",
       "                                                                                                   MinMaxScaler())]),\n",
       "                                                                                  ['mpg',\n",
       "                                                                                   'tax'])]))]))])"
      ]
     },
     "execution_count": 46,
     "metadata": {},
     "output_type": "execute_result"
    }
   ],
   "source": [
    "pipe.fit(train)"
   ]
  },
  {
   "cell_type": "code",
   "execution_count": 47,
   "metadata": {},
   "outputs": [
    {
     "data": {
      "text/plain": [
       "(63759, 25)"
      ]
     },
     "execution_count": 47,
     "metadata": {},
     "output_type": "execute_result"
    }
   ],
   "source": [
    "train_x = pipe.transform(train)\n",
    "train_x.shape # el 25 es por la suma de todas las columnas"
   ]
  },
  {
   "cell_type": "markdown",
   "metadata": {},
   "source": [
    "- Modelado"
   ]
  },
  {
   "cell_type": "code",
   "execution_count": 48,
   "metadata": {},
   "outputs": [],
   "source": [
    "from sklearn.linear_model import LinearRegression"
   ]
  },
  {
   "cell_type": "code",
   "execution_count": 49,
   "metadata": {},
   "outputs": [],
   "source": [
    "lr = LinearRegression()"
   ]
  },
  {
   "cell_type": "code",
   "execution_count": null,
   "metadata": {},
   "outputs": [],
   "source": [
    "# Creamos otro pipeline que incluya nuestro modelo de regresión "
   ]
  },
  {
   "cell_type": "code",
   "execution_count": 50,
   "metadata": {},
   "outputs": [],
   "source": [
    "predicting_pipeline = Pipeline([\n",
    "    ('feature', pipe),\n",
    "    ('estimator', lr)\n",
    "])"
   ]
  },
  {
   "cell_type": "code",
   "execution_count": 51,
   "metadata": {},
   "outputs": [
    {
     "data": {
      "text/html": [
       "<style>#sk-86a01434-82eb-411f-849d-066a3c6a9f53 {color: black;background-color: white;}#sk-86a01434-82eb-411f-849d-066a3c6a9f53 pre{padding: 0;}#sk-86a01434-82eb-411f-849d-066a3c6a9f53 div.sk-toggleable {background-color: white;}#sk-86a01434-82eb-411f-849d-066a3c6a9f53 label.sk-toggleable__label {cursor: pointer;display: block;width: 100%;margin-bottom: 0;padding: 0.3em;box-sizing: border-box;text-align: center;}#sk-86a01434-82eb-411f-849d-066a3c6a9f53 label.sk-toggleable__label-arrow:before {content: \"▸\";float: left;margin-right: 0.25em;color: #696969;}#sk-86a01434-82eb-411f-849d-066a3c6a9f53 label.sk-toggleable__label-arrow:hover:before {color: black;}#sk-86a01434-82eb-411f-849d-066a3c6a9f53 div.sk-estimator:hover label.sk-toggleable__label-arrow:before {color: black;}#sk-86a01434-82eb-411f-849d-066a3c6a9f53 div.sk-toggleable__content {max-height: 0;max-width: 0;overflow: hidden;text-align: left;background-color: #f0f8ff;}#sk-86a01434-82eb-411f-849d-066a3c6a9f53 div.sk-toggleable__content pre {margin: 0.2em;color: black;border-radius: 0.25em;background-color: #f0f8ff;}#sk-86a01434-82eb-411f-849d-066a3c6a9f53 input.sk-toggleable__control:checked~div.sk-toggleable__content {max-height: 200px;max-width: 100%;overflow: auto;}#sk-86a01434-82eb-411f-849d-066a3c6a9f53 input.sk-toggleable__control:checked~label.sk-toggleable__label-arrow:before {content: \"▾\";}#sk-86a01434-82eb-411f-849d-066a3c6a9f53 div.sk-estimator input.sk-toggleable__control:checked~label.sk-toggleable__label {background-color: #d4ebff;}#sk-86a01434-82eb-411f-849d-066a3c6a9f53 div.sk-label input.sk-toggleable__control:checked~label.sk-toggleable__label {background-color: #d4ebff;}#sk-86a01434-82eb-411f-849d-066a3c6a9f53 input.sk-hidden--visually {border: 0;clip: rect(1px 1px 1px 1px);clip: rect(1px, 1px, 1px, 1px);height: 1px;margin: -1px;overflow: hidden;padding: 0;position: absolute;width: 1px;}#sk-86a01434-82eb-411f-849d-066a3c6a9f53 div.sk-estimator {font-family: monospace;background-color: #f0f8ff;border: 1px dotted black;border-radius: 0.25em;box-sizing: border-box;margin-bottom: 0.5em;}#sk-86a01434-82eb-411f-849d-066a3c6a9f53 div.sk-estimator:hover {background-color: #d4ebff;}#sk-86a01434-82eb-411f-849d-066a3c6a9f53 div.sk-parallel-item::after {content: \"\";width: 100%;border-bottom: 1px solid gray;flex-grow: 1;}#sk-86a01434-82eb-411f-849d-066a3c6a9f53 div.sk-label:hover label.sk-toggleable__label {background-color: #d4ebff;}#sk-86a01434-82eb-411f-849d-066a3c6a9f53 div.sk-serial::before {content: \"\";position: absolute;border-left: 1px solid gray;box-sizing: border-box;top: 2em;bottom: 0;left: 50%;}#sk-86a01434-82eb-411f-849d-066a3c6a9f53 div.sk-serial {display: flex;flex-direction: column;align-items: center;background-color: white;padding-right: 0.2em;padding-left: 0.2em;}#sk-86a01434-82eb-411f-849d-066a3c6a9f53 div.sk-item {z-index: 1;}#sk-86a01434-82eb-411f-849d-066a3c6a9f53 div.sk-parallel {display: flex;align-items: stretch;justify-content: center;background-color: white;}#sk-86a01434-82eb-411f-849d-066a3c6a9f53 div.sk-parallel::before {content: \"\";position: absolute;border-left: 1px solid gray;box-sizing: border-box;top: 2em;bottom: 0;left: 50%;}#sk-86a01434-82eb-411f-849d-066a3c6a9f53 div.sk-parallel-item {display: flex;flex-direction: column;position: relative;background-color: white;}#sk-86a01434-82eb-411f-849d-066a3c6a9f53 div.sk-parallel-item:first-child::after {align-self: flex-end;width: 50%;}#sk-86a01434-82eb-411f-849d-066a3c6a9f53 div.sk-parallel-item:last-child::after {align-self: flex-start;width: 50%;}#sk-86a01434-82eb-411f-849d-066a3c6a9f53 div.sk-parallel-item:only-child::after {width: 0;}#sk-86a01434-82eb-411f-849d-066a3c6a9f53 div.sk-dashed-wrapped {border: 1px dashed gray;margin: 0 0.4em 0.5em 0.4em;box-sizing: border-box;padding-bottom: 0.4em;background-color: white;position: relative;}#sk-86a01434-82eb-411f-849d-066a3c6a9f53 div.sk-label label {font-family: monospace;font-weight: bold;background-color: white;display: inline-block;line-height: 1.2em;}#sk-86a01434-82eb-411f-849d-066a3c6a9f53 div.sk-label-container {position: relative;z-index: 2;text-align: center;}#sk-86a01434-82eb-411f-849d-066a3c6a9f53 div.sk-container {/* jupyter's `normalize.less` sets `[hidden] { display: none; }` but bootstrap.min.css set `[hidden] { display: none !important; }` so we also need the `!important` here to be able to override the default hidden behavior on the sphinx rendered scikit-learn.org. See: https://github.com/scikit-learn/scikit-learn/issues/21755 */display: inline-block !important;position: relative;}#sk-86a01434-82eb-411f-849d-066a3c6a9f53 div.sk-text-repr-fallback {display: none;}</style><div id=\"sk-86a01434-82eb-411f-849d-066a3c6a9f53\" class=\"sk-top-container\"><div class=\"sk-text-repr-fallback\"><pre>Pipeline(steps=[(&#x27;feature&#x27;,\n",
       "                 Pipeline(steps=[(&#x27;features&#x27;,\n",
       "                                  FeatureUnion(transformer_list=[(&#x27;one_hot_encode&#x27;,\n",
       "                                                                  ColumnTransformer(transformers=[(&#x27;one_hot_encode&#x27;,\n",
       "                                                                                                   OneHotEncoder(sparse=False),\n",
       "                                                                                                   [&#x27;maker&#x27;,\n",
       "                                                                                                    &#x27;transmission&#x27;,\n",
       "                                                                                                    &#x27;fuelType&#x27;])])),\n",
       "                                                                 (&#x27;robust_encoding&#x27;,\n",
       "                                                                  ColumnTransformer(transformers=[(&#x27;robust_encoding&#x27;,\n",
       "                                                                                                   RobustScaler(),\n",
       "                                                                                                   [&#x27;mileage&#x27;])])),\n",
       "                                                                 (&#x27;just_passs&#x27;,\n",
       "                                                                  ColumnTransformer(transformers=[(&#x27;passthrough&#x27;,\n",
       "                                                                                                   &#x27;passthrough&#x27;,\n",
       "                                                                                                   [&#x27;year&#x27;,\n",
       "                                                                                                    &#x27;engineSize&#x27;])])),\n",
       "                                                                 (&#x27;scale_and_impute&#x27;,\n",
       "                                                                  ColumnTransformer(transformers=[(&#x27;standard_scaling&#x27;,\n",
       "                                                                                                   Pipeline(steps=[(&#x27;impute&#x27;,\n",
       "                                                                                                                    SimpleImputer()),\n",
       "                                                                                                                   (&#x27;scale&#x27;,\n",
       "                                                                                                                    MinMaxScaler())]),\n",
       "                                                                                                   [&#x27;mpg&#x27;,\n",
       "                                                                                                    &#x27;tax&#x27;])]))]))])),\n",
       "                (&#x27;estimator&#x27;, LinearRegression())])</pre><b>Please rerun this cell to show the HTML repr or trust the notebook.</b></div><div class=\"sk-container\" hidden><div class=\"sk-item sk-dashed-wrapped\"><div class=\"sk-label-container\"><div class=\"sk-label sk-toggleable\"><input class=\"sk-toggleable__control sk-hidden--visually\" id=\"d6068e4a-1be3-49a4-a7b9-3dbcef22c869\" type=\"checkbox\" ><label for=\"d6068e4a-1be3-49a4-a7b9-3dbcef22c869\" class=\"sk-toggleable__label sk-toggleable__label-arrow\">Pipeline</label><div class=\"sk-toggleable__content\"><pre>Pipeline(steps=[(&#x27;feature&#x27;,\n",
       "                 Pipeline(steps=[(&#x27;features&#x27;,\n",
       "                                  FeatureUnion(transformer_list=[(&#x27;one_hot_encode&#x27;,\n",
       "                                                                  ColumnTransformer(transformers=[(&#x27;one_hot_encode&#x27;,\n",
       "                                                                                                   OneHotEncoder(sparse=False),\n",
       "                                                                                                   [&#x27;maker&#x27;,\n",
       "                                                                                                    &#x27;transmission&#x27;,\n",
       "                                                                                                    &#x27;fuelType&#x27;])])),\n",
       "                                                                 (&#x27;robust_encoding&#x27;,\n",
       "                                                                  ColumnTransformer(transformers=[(&#x27;robust_encoding&#x27;,\n",
       "                                                                                                   RobustScaler(),\n",
       "                                                                                                   [&#x27;mileage&#x27;])])),\n",
       "                                                                 (&#x27;just_passs&#x27;,\n",
       "                                                                  ColumnTransformer(transformers=[(&#x27;passthrough&#x27;,\n",
       "                                                                                                   &#x27;passthrough&#x27;,\n",
       "                                                                                                   [&#x27;year&#x27;,\n",
       "                                                                                                    &#x27;engineSize&#x27;])])),\n",
       "                                                                 (&#x27;scale_and_impute&#x27;,\n",
       "                                                                  ColumnTransformer(transformers=[(&#x27;standard_scaling&#x27;,\n",
       "                                                                                                   Pipeline(steps=[(&#x27;impute&#x27;,\n",
       "                                                                                                                    SimpleImputer()),\n",
       "                                                                                                                   (&#x27;scale&#x27;,\n",
       "                                                                                                                    MinMaxScaler())]),\n",
       "                                                                                                   [&#x27;mpg&#x27;,\n",
       "                                                                                                    &#x27;tax&#x27;])]))]))])),\n",
       "                (&#x27;estimator&#x27;, LinearRegression())])</pre></div></div></div><div class=\"sk-serial\"><div class=\"sk-item\"><div class=\"sk-label-container\"><div class=\"sk-label sk-toggleable\"><input class=\"sk-toggleable__control sk-hidden--visually\" id=\"0a802f3f-0852-4006-bcb4-273e71fe9412\" type=\"checkbox\" ><label for=\"0a802f3f-0852-4006-bcb4-273e71fe9412\" class=\"sk-toggleable__label sk-toggleable__label-arrow\">feature: Pipeline</label><div class=\"sk-toggleable__content\"><pre>Pipeline(steps=[(&#x27;features&#x27;,\n",
       "                 FeatureUnion(transformer_list=[(&#x27;one_hot_encode&#x27;,\n",
       "                                                 ColumnTransformer(transformers=[(&#x27;one_hot_encode&#x27;,\n",
       "                                                                                  OneHotEncoder(sparse=False),\n",
       "                                                                                  [&#x27;maker&#x27;,\n",
       "                                                                                   &#x27;transmission&#x27;,\n",
       "                                                                                   &#x27;fuelType&#x27;])])),\n",
       "                                                (&#x27;robust_encoding&#x27;,\n",
       "                                                 ColumnTransformer(transformers=[(&#x27;robust_encoding&#x27;,\n",
       "                                                                                  RobustScaler(),\n",
       "                                                                                  [&#x27;mileage&#x27;])])),\n",
       "                                                (&#x27;just_passs&#x27;,\n",
       "                                                 ColumnTransformer(transformers=[(&#x27;passthrough&#x27;,\n",
       "                                                                                  &#x27;passthrough&#x27;,\n",
       "                                                                                  [&#x27;year&#x27;,\n",
       "                                                                                   &#x27;engineSize&#x27;])])),\n",
       "                                                (&#x27;scale_and_impute&#x27;,\n",
       "                                                 ColumnTransformer(transformers=[(&#x27;standard_scaling&#x27;,\n",
       "                                                                                  Pipeline(steps=[(&#x27;impute&#x27;,\n",
       "                                                                                                   SimpleImputer()),\n",
       "                                                                                                  (&#x27;scale&#x27;,\n",
       "                                                                                                   MinMaxScaler())]),\n",
       "                                                                                  [&#x27;mpg&#x27;,\n",
       "                                                                                   &#x27;tax&#x27;])]))]))])</pre></div></div></div><div class=\"sk-serial\"><div class=\"sk-item sk-dashed-wrapped\"><div class=\"sk-label-container\"><div class=\"sk-label sk-toggleable\"><input class=\"sk-toggleable__control sk-hidden--visually\" id=\"4d560c01-bf09-4960-b706-407565dfef1f\" type=\"checkbox\" ><label for=\"4d560c01-bf09-4960-b706-407565dfef1f\" class=\"sk-toggleable__label sk-toggleable__label-arrow\">features: FeatureUnion</label><div class=\"sk-toggleable__content\"><pre>FeatureUnion(transformer_list=[(&#x27;one_hot_encode&#x27;,\n",
       "                                ColumnTransformer(transformers=[(&#x27;one_hot_encode&#x27;,\n",
       "                                                                 OneHotEncoder(sparse=False),\n",
       "                                                                 [&#x27;maker&#x27;,\n",
       "                                                                  &#x27;transmission&#x27;,\n",
       "                                                                  &#x27;fuelType&#x27;])])),\n",
       "                               (&#x27;robust_encoding&#x27;,\n",
       "                                ColumnTransformer(transformers=[(&#x27;robust_encoding&#x27;,\n",
       "                                                                 RobustScaler(),\n",
       "                                                                 [&#x27;mileage&#x27;])])),\n",
       "                               (&#x27;just_passs&#x27;,\n",
       "                                ColumnTransformer(transformers=[(&#x27;passthrough&#x27;,\n",
       "                                                                 &#x27;passthrough&#x27;,\n",
       "                                                                 [&#x27;year&#x27;,\n",
       "                                                                  &#x27;engineSize&#x27;])])),\n",
       "                               (&#x27;scale_and_impute&#x27;,\n",
       "                                ColumnTransformer(transformers=[(&#x27;standard_scaling&#x27;,\n",
       "                                                                 Pipeline(steps=[(&#x27;impute&#x27;,\n",
       "                                                                                  SimpleImputer()),\n",
       "                                                                                 (&#x27;scale&#x27;,\n",
       "                                                                                  MinMaxScaler())]),\n",
       "                                                                 [&#x27;mpg&#x27;,\n",
       "                                                                  &#x27;tax&#x27;])]))])</pre></div></div></div><div class=\"sk-parallel\"><div class=\"sk-parallel-item\"><div class=\"sk-item\"><div class=\"sk-label-container\"><div class=\"sk-label sk-toggleable\"><label>one_hot_encode</label></div></div><div class=\"sk-serial\"><div class=\"sk-item sk-dashed-wrapped\"><div class=\"sk-parallel\"><div class=\"sk-parallel-item\"><div class=\"sk-item\"><div class=\"sk-label-container\"><div class=\"sk-label sk-toggleable\"><input class=\"sk-toggleable__control sk-hidden--visually\" id=\"995d56bc-93eb-47df-80c0-a38b01863ccf\" type=\"checkbox\" ><label for=\"995d56bc-93eb-47df-80c0-a38b01863ccf\" class=\"sk-toggleable__label sk-toggleable__label-arrow\">one_hot_encode</label><div class=\"sk-toggleable__content\"><pre>[&#x27;maker&#x27;, &#x27;transmission&#x27;, &#x27;fuelType&#x27;]</pre></div></div></div><div class=\"sk-serial\"><div class=\"sk-item\"><div class=\"sk-estimator sk-toggleable\"><input class=\"sk-toggleable__control sk-hidden--visually\" id=\"df4bd381-283e-4b60-a1a3-11d48f3dc5a6\" type=\"checkbox\" ><label for=\"df4bd381-283e-4b60-a1a3-11d48f3dc5a6\" class=\"sk-toggleable__label sk-toggleable__label-arrow\">OneHotEncoder</label><div class=\"sk-toggleable__content\"><pre>OneHotEncoder(sparse=False)</pre></div></div></div></div></div></div></div></div></div></div></div><div class=\"sk-parallel-item\"><div class=\"sk-item\"><div class=\"sk-label-container\"><div class=\"sk-label sk-toggleable\"><label>robust_encoding</label></div></div><div class=\"sk-serial\"><div class=\"sk-item sk-dashed-wrapped\"><div class=\"sk-parallel\"><div class=\"sk-parallel-item\"><div class=\"sk-item\"><div class=\"sk-label-container\"><div class=\"sk-label sk-toggleable\"><input class=\"sk-toggleable__control sk-hidden--visually\" id=\"a7c77929-597f-418d-9587-c000f827bd55\" type=\"checkbox\" ><label for=\"a7c77929-597f-418d-9587-c000f827bd55\" class=\"sk-toggleable__label sk-toggleable__label-arrow\">robust_encoding</label><div class=\"sk-toggleable__content\"><pre>[&#x27;mileage&#x27;]</pre></div></div></div><div class=\"sk-serial\"><div class=\"sk-item\"><div class=\"sk-estimator sk-toggleable\"><input class=\"sk-toggleable__control sk-hidden--visually\" id=\"67abe24b-a103-432d-b706-d5ad96056760\" type=\"checkbox\" ><label for=\"67abe24b-a103-432d-b706-d5ad96056760\" class=\"sk-toggleable__label sk-toggleable__label-arrow\">RobustScaler</label><div class=\"sk-toggleable__content\"><pre>RobustScaler()</pre></div></div></div></div></div></div></div></div></div></div></div><div class=\"sk-parallel-item\"><div class=\"sk-item\"><div class=\"sk-label-container\"><div class=\"sk-label sk-toggleable\"><label>just_passs</label></div></div><div class=\"sk-serial\"><div class=\"sk-item sk-dashed-wrapped\"><div class=\"sk-parallel\"><div class=\"sk-parallel-item\"><div class=\"sk-item\"><div class=\"sk-label-container\"><div class=\"sk-label sk-toggleable\"><input class=\"sk-toggleable__control sk-hidden--visually\" id=\"33a01553-ebf2-413c-bc06-47dc961f9c3a\" type=\"checkbox\" ><label for=\"33a01553-ebf2-413c-bc06-47dc961f9c3a\" class=\"sk-toggleable__label sk-toggleable__label-arrow\">passthrough</label><div class=\"sk-toggleable__content\"><pre>[&#x27;year&#x27;, &#x27;engineSize&#x27;]</pre></div></div></div><div class=\"sk-serial\"><div class=\"sk-item\"><div class=\"sk-estimator sk-toggleable\"><input class=\"sk-toggleable__control sk-hidden--visually\" id=\"15b976c5-4556-4178-b448-d878dc6571b8\" type=\"checkbox\" ><label for=\"15b976c5-4556-4178-b448-d878dc6571b8\" class=\"sk-toggleable__label sk-toggleable__label-arrow\">passthrough</label><div class=\"sk-toggleable__content\"><pre>passthrough</pre></div></div></div></div></div></div></div></div></div></div></div><div class=\"sk-parallel-item\"><div class=\"sk-item\"><div class=\"sk-label-container\"><div class=\"sk-label sk-toggleable\"><label>scale_and_impute</label></div></div><div class=\"sk-serial\"><div class=\"sk-item sk-dashed-wrapped\"><div class=\"sk-parallel\"><div class=\"sk-parallel-item\"><div class=\"sk-item\"><div class=\"sk-label-container\"><div class=\"sk-label sk-toggleable\"><input class=\"sk-toggleable__control sk-hidden--visually\" id=\"0d1a2f2e-3fe6-46af-aac0-36c60e43b47a\" type=\"checkbox\" ><label for=\"0d1a2f2e-3fe6-46af-aac0-36c60e43b47a\" class=\"sk-toggleable__label sk-toggleable__label-arrow\">standard_scaling</label><div class=\"sk-toggleable__content\"><pre>[&#x27;mpg&#x27;, &#x27;tax&#x27;]</pre></div></div></div><div class=\"sk-serial\"><div class=\"sk-item\"><div class=\"sk-serial\"><div class=\"sk-item\"><div class=\"sk-estimator sk-toggleable\"><input class=\"sk-toggleable__control sk-hidden--visually\" id=\"b5c922e0-507b-4d4f-a09f-c69181d0d03e\" type=\"checkbox\" ><label for=\"b5c922e0-507b-4d4f-a09f-c69181d0d03e\" class=\"sk-toggleable__label sk-toggleable__label-arrow\">SimpleImputer</label><div class=\"sk-toggleable__content\"><pre>SimpleImputer()</pre></div></div></div><div class=\"sk-item\"><div class=\"sk-estimator sk-toggleable\"><input class=\"sk-toggleable__control sk-hidden--visually\" id=\"67bfa2d3-4c0c-46ef-a36f-55382fee8c36\" type=\"checkbox\" ><label for=\"67bfa2d3-4c0c-46ef-a36f-55382fee8c36\" class=\"sk-toggleable__label sk-toggleable__label-arrow\">MinMaxScaler</label><div class=\"sk-toggleable__content\"><pre>MinMaxScaler()</pre></div></div></div></div></div></div></div></div></div></div></div></div></div></div></div></div></div><div class=\"sk-item\"><div class=\"sk-estimator sk-toggleable\"><input class=\"sk-toggleable__control sk-hidden--visually\" id=\"311196c9-9476-4e1c-9492-a6a74dbd1726\" type=\"checkbox\" ><label for=\"311196c9-9476-4e1c-9492-a6a74dbd1726\" class=\"sk-toggleable__label sk-toggleable__label-arrow\">LinearRegression</label><div class=\"sk-toggleable__content\"><pre>LinearRegression()</pre></div></div></div></div></div></div></div>"
      ],
      "text/plain": [
       "Pipeline(steps=[('feature',\n",
       "                 Pipeline(steps=[('features',\n",
       "                                  FeatureUnion(transformer_list=[('one_hot_encode',\n",
       "                                                                  ColumnTransformer(transformers=[('one_hot_encode',\n",
       "                                                                                                   OneHotEncoder(sparse=False),\n",
       "                                                                                                   ['maker',\n",
       "                                                                                                    'transmission',\n",
       "                                                                                                    'fuelType'])])),\n",
       "                                                                 ('robust_encoding',\n",
       "                                                                  ColumnTransformer(transformers=[('robust_encoding',\n",
       "                                                                                                   RobustScaler(),\n",
       "                                                                                                   ['mileage'])])),\n",
       "                                                                 ('just_passs',\n",
       "                                                                  ColumnTransformer(transformers=[('passthrough',\n",
       "                                                                                                   'passthrough',\n",
       "                                                                                                   ['year',\n",
       "                                                                                                    'engineSize'])])),\n",
       "                                                                 ('scale_and_impute',\n",
       "                                                                  ColumnTransformer(transformers=[('standard_scaling',\n",
       "                                                                                                   Pipeline(steps=[('impute',\n",
       "                                                                                                                    SimpleImputer()),\n",
       "                                                                                                                   ('scale',\n",
       "                                                                                                                    MinMaxScaler())]),\n",
       "                                                                                                   ['mpg',\n",
       "                                                                                                    'tax'])]))]))])),\n",
       "                ('estimator', LinearRegression())])"
      ]
     },
     "execution_count": 51,
     "metadata": {},
     "output_type": "execute_result"
    }
   ],
   "source": [
    "predicting_pipeline.fit(train, train['price'])"
   ]
  },
  {
   "cell_type": "code",
   "execution_count": 52,
   "metadata": {},
   "outputs": [],
   "source": [
    "train_pred = predicting_pipeline.predict(train)\n",
    "val_pred = predicting_pipeline.predict(val)"
   ]
  },
  {
   "cell_type": "code",
   "execution_count": 53,
   "metadata": {},
   "outputs": [
    {
     "data": {
      "text/html": [
       "<div>\n",
       "<style scoped>\n",
       "    .dataframe tbody tr th:only-of-type {\n",
       "        vertical-align: middle;\n",
       "    }\n",
       "\n",
       "    .dataframe tbody tr th {\n",
       "        vertical-align: top;\n",
       "    }\n",
       "\n",
       "    .dataframe thead th {\n",
       "        text-align: right;\n",
       "    }\n",
       "</style>\n",
       "<table border=\"1\" class=\"dataframe\">\n",
       "  <thead>\n",
       "    <tr style=\"text-align: right;\">\n",
       "      <th></th>\n",
       "      <th>real</th>\n",
       "      <th>predicted</th>\n",
       "    </tr>\n",
       "  </thead>\n",
       "  <tbody>\n",
       "    <tr>\n",
       "      <th>66112</th>\n",
       "      <td>15500</td>\n",
       "      <td>16968.453125</td>\n",
       "    </tr>\n",
       "    <tr>\n",
       "      <th>75315</th>\n",
       "      <td>32000</td>\n",
       "      <td>28231.171875</td>\n",
       "    </tr>\n",
       "    <tr>\n",
       "      <th>97509</th>\n",
       "      <td>33450</td>\n",
       "      <td>27946.062500</td>\n",
       "    </tr>\n",
       "    <tr>\n",
       "      <th>56584</th>\n",
       "      <td>7999</td>\n",
       "      <td>6730.015625</td>\n",
       "    </tr>\n",
       "    <tr>\n",
       "      <th>86334</th>\n",
       "      <td>13672</td>\n",
       "      <td>14153.265625</td>\n",
       "    </tr>\n",
       "    <tr>\n",
       "      <th>...</th>\n",
       "      <td>...</td>\n",
       "      <td>...</td>\n",
       "    </tr>\n",
       "    <tr>\n",
       "      <th>55636</th>\n",
       "      <td>12995</td>\n",
       "      <td>13704.093750</td>\n",
       "    </tr>\n",
       "    <tr>\n",
       "      <th>76774</th>\n",
       "      <td>12295</td>\n",
       "      <td>12310.500000</td>\n",
       "    </tr>\n",
       "    <tr>\n",
       "      <th>94609</th>\n",
       "      <td>18195</td>\n",
       "      <td>20208.437500</td>\n",
       "    </tr>\n",
       "    <tr>\n",
       "      <th>69510</th>\n",
       "      <td>43740</td>\n",
       "      <td>25869.609375</td>\n",
       "    </tr>\n",
       "    <tr>\n",
       "      <th>38087</th>\n",
       "      <td>15960</td>\n",
       "      <td>15723.593750</td>\n",
       "    </tr>\n",
       "  </tbody>\n",
       "</table>\n",
       "<p>21254 rows × 2 columns</p>\n",
       "</div>"
      ],
      "text/plain": [
       "        real     predicted\n",
       "66112  15500  16968.453125\n",
       "75315  32000  28231.171875\n",
       "97509  33450  27946.062500\n",
       "56584   7999   6730.015625\n",
       "86334  13672  14153.265625\n",
       "...      ...           ...\n",
       "55636  12995  13704.093750\n",
       "76774  12295  12310.500000\n",
       "94609  18195  20208.437500\n",
       "69510  43740  25869.609375\n",
       "38087  15960  15723.593750\n",
       "\n",
       "[21254 rows x 2 columns]"
      ]
     },
     "execution_count": 53,
     "metadata": {},
     "output_type": "execute_result"
    }
   ],
   "source": [
    "pd.DataFrame({'real':val['price'], 'predicted':val_pred})"
   ]
  },
  {
   "cell_type": "markdown",
   "metadata": {},
   "source": [
    "- Evaluación de modelo"
   ]
  },
  {
   "cell_type": "code",
   "execution_count": 55,
   "metadata": {},
   "outputs": [],
   "source": [
    "from sklearn.metrics import mean_absolute_error\n",
    "from sklearn.metrics import mean_squared_error"
   ]
  },
  {
   "cell_type": "code",
   "execution_count": 56,
   "metadata": {},
   "outputs": [
    {
     "name": "stdout",
     "output_type": "stream",
     "text": [
      "Entrenamiento MSE: 2929.39\n",
      "Validación MSE:    3008.10\n"
     ]
    }
   ],
   "source": [
    "train_mse = mean_absolute_error(train['price'], train_pred)\n",
    "val_mse = mean_absolute_error(val['price'], val_pred)\n",
    "\n",
    "print(f\"Entrenamiento MSE: {train_mse:2.02f}\\n\"\n",
    "      f\"Validación MSE:    {val_mse:2.02f}\")"
   ]
  },
  {
   "cell_type": "code",
   "execution_count": null,
   "metadata": {},
   "outputs": [],
   "source": [
    "# Evaluación en los datos de prueba"
   ]
  },
  {
   "cell_type": "code",
   "execution_count": 57,
   "metadata": {},
   "outputs": [
    {
     "name": "stdout",
     "output_type": "stream",
     "text": [
      "Prueba MSE: 2928.31\n"
     ]
    }
   ],
   "source": [
    "test_pred = predicting_pipeline.predict(test)\n",
    "test_mse = mean_absolute_error(test['price'], test_pred)\n",
    "\n",
    "print(f\"Prueba MSE: {test_mse:2.02f}\")"
   ]
  },
  {
   "cell_type": "markdown",
   "metadata": {},
   "source": [
    "- Guarda el pipeline"
   ]
  },
  {
   "cell_type": "code",
   "execution_count": null,
   "metadata": {},
   "outputs": [],
   "source": [
    "# Joblib nos ayuda a guardar arreglos de forma más eficiente\n",
    "# dump permite guardar el pipeline"
   ]
  },
  {
   "cell_type": "code",
   "execution_count": 58,
   "metadata": {},
   "outputs": [
    {
     "data": {
      "text/plain": [
       "['car-prices.model']"
      ]
     },
     "execution_count": 58,
     "metadata": {},
     "output_type": "execute_result"
    }
   ],
   "source": [
    "from joblib import dump, load\n",
    "dump(predicting_pipeline, 'car-prices.model') "
   ]
  }
 ],
 "metadata": {
  "interpreter": {
   "hash": "5ec8287a9e9ba415041c01db483634ecddc764051071c3300e0c5e030a2e30de"
  },
  "kernelspec": {
   "display_name": "Python 3.9.12 ('env': venv)",
   "language": "python",
   "name": "python3"
  },
  "language_info": {
   "codemirror_mode": {
    "name": "ipython",
    "version": 3
   },
   "file_extension": ".py",
   "mimetype": "text/x-python",
   "name": "python",
   "nbconvert_exporter": "python",
   "pygments_lexer": "ipython3",
   "version": "3.9.12"
  },
  "orig_nbformat": 4
 },
 "nbformat": 4,
 "nbformat_minor": 2
}
